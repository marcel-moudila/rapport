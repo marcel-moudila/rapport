{
 "cells": [
  {
   "cell_type": "markdown",
   "metadata": {
    "id": "ROHEfSIbKzZq"
   },
   "source": [
    "# Intelligence Artificielle Avancée\n",
    "## TP5 : Introduction au Deep Learning\n",
    "\n",
    "Au cas où, il nous faut d'abord vérifier la version du Keras et Tensorflow:"
   ]
  },
  {
   "cell_type": "code",
   "execution_count": 86,
   "metadata": {
    "colab": {
     "base_uri": "https://localhost:8080/"
    },
    "id": "gW6QVox0KzZw",
    "outputId": "af10b80f-f2c6-4bbf-abff-10dc6036fddd",
    "scrolled": true
   },
   "outputs": [
    {
     "name": "stdout",
     "output_type": "stream",
     "text": [
      "Keras: 2.6.0\n",
      "Tensorflow: 2.11.0\n"
     ]
    }
   ],
   "source": [
    "import tensorflow as tf\n",
    "from tensorflow.python import keras\n",
    "print(\"Keras:\", keras.__version__)\n",
    "print(\"Tensorflow:\", tf.__version__)\n"
   ]
  },
  {
   "cell_type": "markdown",
   "metadata": {
    "id": "VUgUflXuKzZ1"
   },
   "source": [
    "**Installer Pydot et Graphiz, si ne sont pas déjà installés:**"
   ]
  },
  {
   "cell_type": "raw",
   "metadata": {
    "id": "XZoal117KzZ3"
   },
   "source": [
    "Si vous utilisez Anaconda, tapez: \"!conda install pydot\" sinon, \"!pip install pydot\" \n",
    "Ou vous pouvez également installer Pydot à l'aide de l'interface graphique Anaconda:\n",
    "Menu--> Environnements-->Not installed, puis cherchez pydot, cliquez \"Apply\""
   ]
  },
  {
   "cell_type": "markdown",
   "metadata": {
    "id": "iFM13ccXKzZ5"
   },
   "source": [
    "Puis vous devez relancer le noyau : trouver 'restart kernel' dans les menus."
   ]
  },
  {
   "cell_type": "markdown",
   "metadata": {
    "id": "bfKHx1z9KzZ7"
   },
   "source": [
    "## De la documentation\n"
   ]
  },
  {
   "cell_type": "markdown",
   "metadata": {
    "id": "Lv82p21gKzZ8"
   },
   "source": [
    "### Deep Learning avec Keras\n",
    "- Doc keras :https://keras.io/\n",
    "- Le model Sequential (premier pas) : https://keras.io/getting-started/sequential-model-guide/#getting-started-with-the-keras-sequential-model\n",
    "- Un framework plus riche : https://keras.io/getting-started/functional-api-guide/"
   ]
  },
  {
   "cell_type": "markdown",
   "metadata": {
    "id": "-7KemHCFKzZ-"
   },
   "source": [
    "### Autres Toolkits et packages\n",
    "\n",
    "- Lasagne : Langage *de haut niveau* comme keras\n",
    "\n",
    "\n",
    "NB : Lasagne et Keras utilisent indifférement un backend parmi Theano (Univ. Montreal) et Tensorflow (Google)\n",
    "\n",
    "- Theano :  le package de l'Univ. de Montréal\n",
    "\n",
    "- Tensorflow :  le package Google\n",
    "\n",
    "- Caffe : très spécialisé images\n",
    "\n",
    "- Pytorch : la plateforme de Facebook\n",
    "\n",
    "- ...\n"
   ]
  },
  {
   "cell_type": "markdown",
   "metadata": {
    "id": "ZGb7BM1CKzZ_"
   },
   "source": [
    "## Récupération d'un dataset existant\n",
    "On va travailler avec un jeux de données historique que vous conaissez déjà : MNIST. Ce sont des chiffres manuscrits, donc des images en niveaux de gris, en résolution 28x28 cette fois (cela peut prendre un peu de temps - et générer un FutureWarning, ce qui n'est pas grave) :"
   ]
  },
  {
   "cell_type": "code",
   "execution_count": 87,
   "metadata": {
    "id": "ULrkI_GsKzaC"
   },
   "outputs": [],
   "source": [
    "from keras.datasets import mnist\n",
    "from keras.utils import np_utils\n",
    "(X_train, y_train), (X_test, y_test) = mnist.load_data()"
   ]
  },
  {
   "cell_type": "code",
   "execution_count": 88,
   "metadata": {
    "colab": {
     "base_uri": "https://localhost:8080/",
     "height": 300
    },
    "id": "WLLodIywKzaE",
    "outputId": "fec6b766-f7b8-4223-c0c9-1240bc6c0e76"
   },
   "outputs": [
    {
     "name": "stdout",
     "output_type": "stream",
     "text": [
      "dimension des données :  (60000, 28, 28) (60000,)\n",
      "Une données sous format plus lisible :\n"
     ]
    },
    {
     "data": {
      "image/png": "[encoded data removed]",
      "text/plain": [
       "<Figure size 432x288 with 1 Axes>"
      ]
     },
     "metadata": {
      "needs_background": "light"
     },
     "output_type": "display_data"
    }
   ],
   "source": [
    "%matplotlib inline\n",
    "import matplotlib.pyplot as plt\n",
    "\n",
    "print(\"dimension des données : \", X_train.shape, y_train.shape)\n",
    "#print(\"une données : \")\n",
    "#print(X_test[42])\n",
    "\n",
    "print(\"Une données sous format plus lisible :\")\n",
    "plt.imshow(X_train[42], cmap=plt.get_cmap('gray'))\n",
    "plt.show()"
   ]
  },
  {
   "cell_type": "markdown",
   "metadata": {
    "id": "OHbzMEgTKzaG"
   },
   "source": [
    "### Prétraitement\n",
    "Les données ne sont pas dans le format nécessaire à Keras : il vaut vectoriser chaque image. On va aussi les normaliser, pour n'avoir que des valeurs comprisent entre 0 et 1 (améliore la vitesse de convergence)"
   ]
  },
  {
   "cell_type": "code",
   "execution_count": 89,
   "metadata": {
    "id": "00AKxOATKzaH"
   },
   "outputs": [],
   "source": [
    "X_train = X_train.astype('float32') / 255.\n",
    "X_test = X_test.astype('float32') / 255.\n",
    "\n",
    "import numpy as np\n",
    "X_train = X_train.reshape((len(X_train), np.prod(X_train.shape[1:])))\n",
    "X_test = X_test.reshape((len(X_test), np.prod(X_test.shape[1:])))"
   ]
  },
  {
   "cell_type": "code",
   "execution_count": 90,
   "metadata": {
    "colab": {
     "base_uri": "https://localhost:8080/"
    },
    "id": "FDYyVpwyKzaI",
    "outputId": "af95f0d7-7c63-45b6-9420-eca7770c4d22"
   },
   "outputs": [
    {
     "name": "stdout",
     "output_type": "stream",
     "text": [
      "(60000, 784)\n",
      "(10000, 784)\n",
      "(60000,)\n",
      "Classe de la data num 42 : 7\n"
     ]
    }
   ],
   "source": [
    "print(X_train.shape)\n",
    "print(X_test.shape)\n",
    "\n",
    "print(y_train.shape)\n",
    "print(\"Classe de la data num 42 :\", y_train[42])"
   ]
  },
  {
   "cell_type": "markdown",
   "metadata": {
    "id": "HnIIqmtEKzaJ"
   },
   "source": [
    "#### One-hot-encoding\n",
    "Les réseaux de neurones ont besoin d'un vecteur à la place de *y* : on utilise un codage où la taille de ce vecteur est le nombre de classe, toutes les valeurs du vecteurs sont égales à 0, sauf celle qui correspond à la bonne classe qui elle vaut 1."
   ]
  },
  {
   "cell_type": "code",
   "execution_count": 91,
   "metadata": {
    "id": "Fft73HBNKzaK"
   },
   "outputs": [],
   "source": [
    "# On transforme les sorties (numéros de classe) en des vecteurs de type one-hot-code\n",
    "nb_classes = 10\n",
    "\n",
    "Y_train = y_train\n",
    "Y_test = y_test\n",
    "y_train =  np_utils.to_categorical(y_train, nb_classes)\n",
    "y_test = np_utils.to_categorical(y_test, nb_classes)\n"
   ]
  },
  {
   "cell_type": "code",
   "execution_count": 92,
   "metadata": {
    "colab": {
     "base_uri": "https://localhost:8080/"
    },
    "id": "BOM1nOsZKzaL",
    "outputId": "c6e3e948-8b81-4af5-d93c-e500ab9ab12a"
   },
   "outputs": [
    {
     "name": "stdout",
     "output_type": "stream",
     "text": [
      "(60000, 10)\n",
      "Classe de la data num 42 :  [0. 0. 0. 0. 0. 0. 0. 1. 0. 0.]\n"
     ]
    }
   ],
   "source": [
    "print(y_train.shape)\n",
    "print(\"Classe de la data num 42 : \", y_train[42])"
   ]
  },
  {
   "cell_type": "markdown",
   "metadata": {
    "id": "6bIx6CoHKzaM"
   },
   "source": [
    "## Apprendre un réseau de neurones pour la classification de MNIST\n",
    "D'abord il faut créer le model.\n",
    "On ajoute les couches une à une. Ici un modèle qui :\n",
    "- prend en entrée un vecteur de dimension 784 (une image Mnist 28x28 vectorisée)\n",
    "- transforme l'entrée en un vecteur de dimension 64 avec une couche totalement connectée (Dense), avec une fonction d'une activation de type Rectified Linear Unit \n",
    "- Transforme la sortie de la couche précédente (de dimension 64) en un vecteur de dimension 10 avec une autre couche dense \n",
    "- Transforme le vecteur de dimenbsion 10 en un autre vecteur de dimension 10 à l'aide d'une couche dense avec la fonction d'activation softmax"
   ]
  },
  {
   "cell_type": "code",
   "execution_count": 93,
   "metadata": {
    "id": "0LjFif7eKzaN"
   },
   "outputs": [],
   "source": [
    "# Import from Keras\n",
    "from keras.layers import Input, Dense\n",
    "from keras.models import Model, Sequential\n"
   ]
  },
  {
   "cell_type": "markdown",
   "metadata": {
    "id": "JpDtOWuuKzaO"
   },
   "source": [
    "On crée note réseau de neurones (cela génère un warning désagréable mais qui ne pause pas de problème finalement) :"
   ]
  },
  {
   "cell_type": "code",
   "execution_count": 94,
   "metadata": {
    "id": "4GF8oREpKzaP"
   },
   "outputs": [],
   "source": [
    "model = Sequential()\n",
    "model.add(Dense(64, input_dim=784, activation='relu'))\n",
    "model.add(Dense(10, activation='relu'))\n",
    "model.add(Dense(10, activation='softmax'))"
   ]
  },
  {
   "cell_type": "markdown",
   "metadata": {
    "id": "cWVxCvLKKzaP"
   },
   "source": [
    "Puis il faut \"compiler\" le modèle, en précisant :\n",
    "- le critère d'optimisation : le *loss*\n",
    "- la routine d'optimisation (ie l'utilisation du gradient) : l'*optimizer*\n",
    "- les métriques additionnelles au *loss* (ici l'*accuracy*, le taux de bonne classification) que l'on va calculer à chaque fois"
   ]
  },
  {
   "cell_type": "code",
   "execution_count": 95,
   "metadata": {
    "id": "gqlDueVJKzaR"
   },
   "outputs": [],
   "source": [
    "model.compile(loss='categorical_crossentropy',\n",
    "              optimizer='adadelta',\n",
    "              metrics=['acc'])"
   ]
  },
  {
   "cell_type": "markdown",
   "metadata": {
    "id": "e_H4Tm4mKzaR"
   },
   "source": [
    "### Affichage de la structure du modèle\n",
    "\n",
    "Expliquee les différentes éléments de chacune des lignes affichées par la commande suivante."
   ]
  },
  {
   "cell_type": "code",
   "execution_count": 96,
   "metadata": {
    "colab": {
     "base_uri": "https://localhost:8080/"
    },
    "id": "VIyZKvHhKzaS",
    "outputId": "798217a7-e2e5-48b2-820c-87c509b43de2"
   },
   "outputs": [
    {
     "name": "stdout",
     "output_type": "stream",
     "text": [
      "Model: \"sequential_3\"\n",
      "_________________________________________________________________\n",
      " Layer (type)                Output Shape              Param #   \n",
      "=================================================================\n",
      " dense_62 (Dense)            (None, 64)                50240     \n",
      "                                                                 \n",
      " dense_63 (Dense)            (None, 10)                650       \n",
      "                                                                 \n",
      " dense_64 (Dense)            (None, 10)                110       \n",
      "                                                                 \n",
      "=================================================================\n",
      "Total params: 51,000\n",
      "Trainable params: 51,000\n",
      "Non-trainable params: 0\n",
      "_________________________________________________________________\n"
     ]
    }
   ],
   "source": [
    "model.summary()"
   ]
  },
  {
   "cell_type": "markdown",
   "metadata": {
    "id": "0S9LogokKzaS"
   },
   "source": [
    "Ou une manière plus graphique (nécessite l'installation de pydot et surtout de graphviz, ce qui n'est pas forcément facile) :"
   ]
  },
  {
   "cell_type": "code",
   "execution_count": 97,
   "metadata": {
    "colab": {
     "base_uri": "https://localhost:8080/",
     "height": 490
    },
    "id": "ZeUucAcsKzaT",
    "outputId": "adce77db-93a1-4a5c-bdcb-5fa8e31f838d"
   },
   "outputs": [
    {
     "data": {
      "image/svg+xml": [
       "<svg xmlns=\"http://www.w3.org/2000/svg\" xmlns:xlink=\"http://www.w3.org/1999/xlink\" width=\"249pt\" height=\"352pt\" viewBox=\"0.00 0.00 187.00 264.00\">\n",
       "<g id=\"graph0\" class=\"graph\" transform=\"scale(0.75 0.75) rotate(0) translate(4 260)\">\n",
       "<title>G</title>\n",
       "<polygon fill=\"white\" stroke=\"transparent\" points=\"-4,4 -4,-260 183,-260 183,4 -4,4\"/>\n",
       "<!-- 139731648213152 -->\n",
       "<g id=\"node1\" class=\"node\">\n",
       "<title>139731648213152</title>\n",
       "<polygon fill=\"none\" stroke=\"black\" points=\"0,-219.5 0,-255.5 179,-255.5 179,-219.5 0,-219.5\"/>\n",
       "<text text-anchor=\"middle\" x=\"51\" y=\"-233.8\" font-family=\"Times,serif\" font-size=\"14.00\">dense_62_input</text>\n",
       "<polyline fill=\"none\" stroke=\"black\" points=\"102,-219.5 102,-255.5 \"/>\n",
       "<text text-anchor=\"middle\" x=\"140.5\" y=\"-233.8\" font-family=\"Times,serif\" font-size=\"14.00\">InputLayer</text>\n",
       "</g>\n",
       "<!-- 139731648106848 -->\n",
       "<g id=\"node2\" class=\"node\">\n",
       "<title>139731648106848</title>\n",
       "<polygon fill=\"none\" stroke=\"black\" points=\"30.5,-146.5 30.5,-182.5 148.5,-182.5 148.5,-146.5 30.5,-146.5\"/>\n",
       "<text text-anchor=\"middle\" x=\"64.5\" y=\"-160.8\" font-family=\"Times,serif\" font-size=\"14.00\">dense_62</text>\n",
       "<polyline fill=\"none\" stroke=\"black\" points=\"98.5,-146.5 98.5,-182.5 \"/>\n",
       "<text text-anchor=\"middle\" x=\"123.5\" y=\"-160.8\" font-family=\"Times,serif\" font-size=\"14.00\">Dense</text>\n",
       "</g>\n",
       "<!-- 139731648213152&#45;&gt;139731648106848 -->\n",
       "<g id=\"edge1\" class=\"edge\">\n",
       "<title>139731648213152-&gt;139731648106848</title>\n",
       "<path fill=\"none\" stroke=\"black\" d=\"M89.5,-219.31C89.5,-211.29 89.5,-201.55 89.5,-192.57\"/>\n",
       "<polygon fill=\"black\" stroke=\"black\" points=\"93,-192.53 89.5,-182.53 86,-192.53 93,-192.53\"/>\n",
       "</g>\n",
       "<!-- 139731648410288 -->\n",
       "<g id=\"node3\" class=\"node\">\n",
       "<title>139731648410288</title>\n",
       "<polygon fill=\"none\" stroke=\"black\" points=\"30.5,-73.5 30.5,-109.5 148.5,-109.5 148.5,-73.5 30.5,-73.5\"/>\n",
       "<text text-anchor=\"middle\" x=\"64.5\" y=\"-87.8\" font-family=\"Times,serif\" font-size=\"14.00\">dense_63</text>\n",
       "<polyline fill=\"none\" stroke=\"black\" points=\"98.5,-73.5 98.5,-109.5 \"/>\n",
       "<text text-anchor=\"middle\" x=\"123.5\" y=\"-87.8\" font-family=\"Times,serif\" font-size=\"14.00\">Dense</text>\n",
       "</g>\n",
       "<!-- 139731648106848&#45;&gt;139731648410288 -->\n",
       "<g id=\"edge2\" class=\"edge\">\n",
       "<title>139731648106848-&gt;139731648410288</title>\n",
       "<path fill=\"none\" stroke=\"black\" d=\"M89.5,-146.31C89.5,-138.29 89.5,-128.55 89.5,-119.57\"/>\n",
       "<polygon fill=\"black\" stroke=\"black\" points=\"93,-119.53 89.5,-109.53 86,-119.53 93,-119.53\"/>\n",
       "</g>\n",
       "<!-- 139731370663456 -->\n",
       "<g id=\"node4\" class=\"node\">\n",
       "<title>139731370663456</title>\n",
       "<polygon fill=\"none\" stroke=\"black\" points=\"30.5,-0.5 30.5,-36.5 148.5,-36.5 148.5,-0.5 30.5,-0.5\"/>\n",
       "<text text-anchor=\"middle\" x=\"64.5\" y=\"-14.8\" font-family=\"Times,serif\" font-size=\"14.00\">dense_64</text>\n",
       "<polyline fill=\"none\" stroke=\"black\" points=\"98.5,-0.5 98.5,-36.5 \"/>\n",
       "<text text-anchor=\"middle\" x=\"123.5\" y=\"-14.8\" font-family=\"Times,serif\" font-size=\"14.00\">Dense</text>\n",
       "</g>\n",
       "<!-- 139731648410288&#45;&gt;139731370663456 -->\n",
       "<g id=\"edge3\" class=\"edge\">\n",
       "<title>139731648410288-&gt;139731370663456</title>\n",
       "<path fill=\"none\" stroke=\"black\" d=\"M89.5,-73.31C89.5,-65.29 89.5,-55.55 89.5,-46.57\"/>\n",
       "<polygon fill=\"black\" stroke=\"black\" points=\"93,-46.53 89.5,-36.53 86,-46.53 93,-46.53\"/>\n",
       "</g>\n",
       "</g>\n",
       "</svg>"
      ],
      "text/plain": [
       "<IPython.core.display.SVG object>"
      ]
     },
     "execution_count": 97,
     "metadata": {},
     "output_type": "execute_result"
    }
   ],
   "source": [
    "import pydot\n",
    "from IPython.display import SVG\n",
    "from keras.utils.vis_utils import model_to_dot\n",
    "\n",
    "SVG(model_to_dot(model).create(prog='dot', format='svg'))"
   ]
  },
  {
   "cell_type": "markdown",
   "metadata": {
    "id": "_e2-J81GKzaT"
   },
   "source": [
    "### On peut maintenant apprendre le modèle en précisant \n",
    "- la base d'apprentissage (les deux premiers paramètres)\n",
    "- le nombre d'itérations d'apprentissage (*epochs*)\n",
    "- la taille des minibatchs (*batch_size*)\n",
    "- un ensemble de validation (soit on utilise comme ici un pourcentage des données d'entrée *X_train, y_train*, soit d'autres ensemble de données via *validation_data=(X_test, y_test)*)\n",
    "- le niveau de verbosité de l'affichage\n",
    "\n",
    "*(là encore, on a un WARNING, mais il n'empêche pas le code de fonctionner)*"
   ]
  },
  {
   "cell_type": "code",
   "execution_count": 98,
   "metadata": {
    "colab": {
     "base_uri": "https://localhost:8080/"
    },
    "id": "Jkp5R5peKzaV",
    "outputId": "ce6c5c28-ffe1-4f52-a410-b209f2f200b0"
   },
   "outputs": [
    {
     "name": "stdout",
     "output_type": "stream",
     "text": [
      "Epoch 1/3\n",
      "2513/2513 [==============================] - 10s 4ms/step - loss: 2.2686 - acc: 0.1351 - val_loss: 2.2404 - val_acc: 0.1542\n",
      "Epoch 2/3\n",
      "2513/2513 [==============================] - 9s 4ms/step - loss: 2.2094 - acc: 0.1741 - val_loss: 2.1835 - val_acc: 0.1824\n",
      "Epoch 3/3\n",
      "2513/2513 [==============================] - 10s 4ms/step - loss: 2.1540 - acc: 0.1972 - val_loss: 2.1299 - val_acc: 0.2056\n"
     ]
    }
   ],
   "source": [
    "h = model.fit(X_train, y_train,\n",
    "              epochs=3,\n",
    "              batch_size=16,\n",
    "              verbose =1,\n",
    "              validation_split=0.33)"
   ]
  },
  {
   "cell_type": "markdown",
   "metadata": {
    "id": "F8gTDF0mKzaV"
   },
   "source": [
    "### Evaluation\n",
    "On peut alors évaluer le modèle sur l'ensemble de test"
   ]
  },
  {
   "cell_type": "code",
   "execution_count": 99,
   "metadata": {
    "colab": {
     "base_uri": "https://localhost:8080/"
    },
    "id": "vwuFDbEzKzaW",
    "outputId": "889cb4a1-66d0-46f4-e80d-f1f921441089"
   },
   "outputs": [
    {
     "name": "stdout",
     "output_type": "stream",
     "text": [
      "625/625 - 1s - loss: 2.1183 - acc: 0.2170 - 895ms/epoch - 1ms/step\n",
      "[2.118299722671509, 0.21699999272823334]\n"
     ]
    }
   ],
   "source": [
    "score = model.evaluate(X_test, y_test, verbose=2, batch_size=16)\n",
    "\n",
    "print (score)"
   ]
  },
  {
   "cell_type": "markdown",
   "metadata": {
    "id": "7EzqD-JpKzaW"
   },
   "source": [
    "### Historique de processus\n",
    "Les info sur le processus d'apprentissage sont stockées dans *h*.\n",
    "\n",
    "Comme on va en avoir besoin plusieurs fois, on écrit une fonction qui prend un historique d'apprentissage et affiche les courbes : une pour la fonction de perte (loss) et l'autre pour le taux de réussite (accuracy) :"
   ]
  },
  {
   "cell_type": "code",
   "execution_count": 100,
   "metadata": {
    "id": "AZysJhdsKzaW"
   },
   "outputs": [],
   "source": [
    "def affiche_evolution_apprentissage(history):\n",
    "    #affiche history.history.keys()\n",
    "    plt.plot(history.history['acc'])\n",
    "    plt.plot(history.history['val_acc'])\n",
    "    plt.title('accuracy du modèle')\n",
    "    plt.ylabel('accuracy')\n",
    "    plt.xlabel('epoch')\n",
    "    plt.legend(['données apprentissage', 'données test'], loc='upper left')\n",
    "    plt.show()\n",
    "    # résumé de l'historique pour loss\n",
    "    plt.plot(history.history['loss'])\n",
    "    plt.plot(history.history['val_loss'])\n",
    "    plt.title('loss du modèle')\n",
    "    plt.ylabel('loss')\n",
    "    plt.xlabel('epoch')\n",
    "    plt.legend(['apprentissage', 'test'], loc='upper left')\n",
    "    plt.show()"
   ]
  },
  {
   "cell_type": "code",
   "execution_count": 101,
   "metadata": {
    "colab": {
     "base_uri": "https://localhost:8080/",
     "height": 573
    },
    "id": "hg3ehZqHKzaX",
    "outputId": "d72a1a95-06f4-4a33-ff8e-ba7b1cae3b17"
   },
   "outputs": [
    {
     "data": {
      "image/png": "[encoded data removed]",
      "text/plain": [
       "<Figure size 432x288 with 1 Axes>"
      ]
     },
     "metadata": {
      "needs_background": "light"
     },
     "output_type": "display_data"
    },
    {
     "data": {
      "image/png": "[encoded data removed]",
      "text/plain": [
       "<Figure size 432x288 with 1 Axes>"
      ]
     },
     "metadata": {
      "needs_background": "light"
     },
     "output_type": "display_data"
    }
   ],
   "source": [
    "affiche_evolution_apprentissage(h)"
   ]
  },
  {
   "cell_type": "markdown",
   "metadata": {
    "id": "l2TK-LiAKzaY"
   },
   "source": []
  },
  {
   "cell_type": "markdown",
   "metadata": {
    "id": "kAftHhbuKzaY"
   },
   "source": [
    "#### En utilisant les réseaux de neurones convolutionnels, proposer un deuxième modèle sur la même donnée (MNIST), le modèle proposé sera constité de deux couches (Conv2D de taille 3), après chaque couche de convoltion une couche d'échantillonnage  (MaxPooling2D de taille 2) est fortement recommandée.   "
   ]
  },
  {
   "cell_type": "code",
   "execution_count": 102,
   "metadata": {
    "colab": {
     "base_uri": "https://localhost:8080/"
    },
    "id": "kEDCm0FeKzaZ",
    "outputId": "088e1df1-578c-4e37-b4fa-e2841c3efa69"
   },
   "outputs": [
    {
     "name": "stdout",
     "output_type": "stream",
     "text": [
      "Model: \"sequential_4\"\n",
      "_________________________________________________________________\n",
      " Layer (type)                Output Shape              Param #   \n",
      "=================================================================\n",
      " conv2d_4 (Conv2D)           (None, 26, 26, 32)        320       \n",
      "                                                                 \n",
      " max_pooling2d_4 (MaxPooling  (None, 13, 13, 32)       0         \n",
      " 2D)                                                             \n",
      "                                                                 \n",
      " conv2d_5 (Conv2D)           (None, 11, 11, 64)        18496     \n",
      "                                                                 \n",
      " max_pooling2d_5 (MaxPooling  (None, 5, 5, 64)         0         \n",
      " 2D)                                                             \n",
      "                                                                 \n",
      " flatten_2 (Flatten)         (None, 1600)              0         \n",
      "                                                                 \n",
      " dense_65 (Dense)            (None, 64)                102464    \n",
      "                                                                 \n",
      " dense_66 (Dense)            (None, 10)                650       \n",
      "                                                                 \n",
      "=================================================================\n",
      "Total params: 121,930\n",
      "Trainable params: 121,930\n",
      "Non-trainable params: 0\n",
      "_________________________________________________________________\n"
     ]
    }
   ],
   "source": [
    "#A vous\n",
    "\n",
    "\n",
    "from keras.datasets import mnist\n",
    "from keras.utils import to_categorical\n",
    "\n",
    "(X_train,y_train),(X_test,y_test) = mnist.load_data()\n",
    "\n",
    "X_train = X_train.reshape((60000,28,28,1))\n",
    "X_train = X_train.astype('float32')/255\n",
    "\n",
    "X_test = X_test.reshape((10000,28,28,1))\n",
    "X_test = X_test.astype('float32')/255\n",
    "\n",
    "y_train = to_categorical(y_train)\n",
    "y_test = to_categorical(y_test)\n",
    "\n",
    "\n",
    "\n",
    "from keras import layers\n",
    "from keras import models\n",
    "model2 = models.Sequential()\n",
    "model2.add(layers.Conv2D(32,(3,3),activation = 'relu',input_shape =(28,28,1)))\n",
    "model2.add(layers.MaxPooling2D((2,2)))\n",
    "model2.add(layers.Conv2D(64,(3,3),activation = 'relu'))\n",
    "model2.add(layers.MaxPooling2D((2,2)))\n",
    "model2.add(layers.Flatten())\n",
    "model2.add(layers.Dense(64,activation = 'relu'))\n",
    "model2.add(layers.Dense(10,activation = 'softmax'))\n",
    "\n",
    "model2.summary()"
   ]
  },
  {
   "cell_type": "markdown",
   "metadata": {
    "id": "lVdBbhNpKzaZ"
   },
   "source": [
    "#### Evaluer les nouveau model construit (CNN) et le comparer avec le modèle dense (MLP)"
   ]
  },
  {
   "cell_type": "code",
   "execution_count": 103,
   "metadata": {
    "colab": {
     "base_uri": "https://localhost:8080/"
    },
    "id": "cjqm6W49Kzaa",
    "outputId": "3c1f2f55-4ad8-4521-aa47-7b27569eac6a"
   },
   "outputs": [
    {
     "name": "stdout",
     "output_type": "stream",
     "text": [
      "Epoch 1/3\n",
      "2513/2513 [==============================] - 56s 22ms/step - loss: 2.2730 - acc: 0.1556 - val_loss: 2.2385 - val_acc: 0.3038\n",
      "Epoch 2/3\n",
      "2513/2513 [==============================] - 53s 21ms/step - loss: 2.2037 - acc: 0.4452 - val_loss: 2.1646 - val_acc: 0.5320\n",
      "Epoch 3/3\n",
      "2513/2513 [==============================] - 57s 23ms/step - loss: 2.1187 - acc: 0.5778 - val_loss: 2.0655 - val_acc: 0.6109\n",
      "313/313 [==============================] - 4s 13ms/step - loss: 2.0659 - acc: 0.6107\n",
      "[loss, accuracy] =  [2.065863609313965, 0.6107000112533569]\n"
     ]
    }
   ],
   "source": [
    "#a vous\n",
    "\n",
    "model2.compile(optimizer = 'adadelta', \n",
    "               loss = 'categorical_crossentropy',\n",
    "               metrics = ['acc'])\n",
    "\n",
    "h2 = model2.fit(X_train,y_train, epochs = 3, batch_size = 16, \n",
    "                verbose = 1, \n",
    "                validation_split= 0.33)\n",
    "\n",
    "score2 = model2.evaluate(X_test,y_test)\n",
    "print(\"[loss, accuracy] = \",score2)\n",
    "\n",
    "\n",
    "\n"
   ]
  },
  {
   "cell_type": "code",
   "execution_count": 104,
   "metadata": {
    "colab": {
     "base_uri": "https://localhost:8080/",
     "height": 573
    },
    "id": "Ha4lCZZLhRzM",
    "outputId": "06831dab-e63e-4f79-dc34-ccdddffa4392"
   },
   "outputs": [
    {
     "data": {
      "image/png": "[encoded data removed]",
      "text/plain": [
       "<Figure size 432x288 with 1 Axes>"
      ]
     },
     "metadata": {
      "needs_background": "light"
     },
     "output_type": "display_data"
    },
    {
     "data": {
      "image/png": "[encoded data removed]",
      "text/plain": [
       "<Figure size 432x288 with 1 Axes>"
      ]
     },
     "metadata": {
      "needs_background": "light"
     },
     "output_type": "display_data"
    }
   ],
   "source": [
    "affiche_evolution_apprentissage(h2)"
   ]
  },
  {
   "cell_type": "markdown",
   "metadata": {
    "id": "D28ewYv7Kzaa"
   },
   "source": [
    "#### Evaluer les hyperparamètres droupout et batch-size sur la perfermance du modèle"
   ]
  },
  {
   "cell_type": "code",
   "execution_count": 105,
   "metadata": {
    "id": "BIyP1YczKzab"
   },
   "outputs": [],
   "source": [
    "#A vous\n"
   ]
  },
  {
   "cell_type": "markdown",
   "metadata": {
    "id": "X5jWS4LkKzab"
   },
   "source": [
    "### Callback\n",
    "Permet de programmer la sauvegarde des modèles à chaque itération, l'adaptation du pas d'apprentissage (learning rate), une procédure de early stopping, etc.\n",
    "\n",
    "Voir <https://keras.io/callbacks/> pour les détails"
   ]
  },
  {
   "cell_type": "code",
   "execution_count": 106,
   "metadata": {
    "colab": {
     "base_uri": "https://localhost:8080/"
    },
    "id": "XzC3P3SeKzac",
    "outputId": "bbed0294-49d0-4a55-e943-f3723dbbe82d",
    "scrolled": true
   },
   "outputs": [
    {
     "name": "stdout",
     "output_type": "stream",
     "text": [
      "Epoch 1/2\n",
      "2513/2513 [==============================] - 9s 4ms/step - loss: 2.3008 - acc: 0.2253 - val_loss: 2.3007 - val_acc: 0.2032 - lr: 0.0010\n",
      "Epoch 2/2\n",
      "2513/2513 [==============================] - 9s 4ms/step - loss: 2.3006 - acc: 0.1903 - val_loss: 2.3006 - val_acc: 0.1733 - lr: 0.0010\n"
     ]
    }
   ],
   "source": [
    "# Early Stopping\n",
    "from keras.callbacks import EarlyStopping\n",
    "es = EarlyStopping(monitor='val_loss', min_delta=0.00001, patience=10, verbose=1, mode='auto')\n",
    "\n",
    "# Adaptation du pas d'apprentissage\n",
    "from keras.callbacks import ReduceLROnPlateau\n",
    "lr = ReduceLROnPlateau(monitor='val_loss', factor=0.1, patience=2, verbose=0, mode='auto', \n",
    "                       min_delta=0.0001, cooldown=0, min_lr=0)\n",
    "\n",
    "\n",
    "(X_train, y_train), (X_test, y_test) = mnist.load_data()\n",
    "X_train = X_train.astype('float32') / 255.\n",
    "X_test = X_test.astype('float32') / 255.\n",
    "\n",
    "import numpy as np\n",
    "X_train = X_train.reshape((len(X_train), np.prod(X_train.shape[1:])))\n",
    "X_test = X_test.reshape((len(X_test), np.prod(X_test.shape[1:])))\n",
    "X_train = X_train.astype('float32') / 255\n",
    "X_test = X_test.astype('float32') / 255\n",
    "\n",
    "\n",
    "Y_train = y_train\n",
    "Y_test = y_test\n",
    "y_train =  np_utils.to_categorical(y_train, nb_classes)\n",
    "y_test = np_utils.to_categorical(y_test, nb_classes)\n",
    "\n",
    "\n",
    "h_es_lr = model.fit(X_train, y_train,\n",
    "                    epochs=2,\n",
    "                    batch_size=16,\n",
    "                    verbose =1,\n",
    "                    validation_split=0.33,\n",
    "                    callbacks=[es, lr])"
   ]
  },
  {
   "cell_type": "code",
   "execution_count": 107,
   "metadata": {
    "colab": {
     "base_uri": "https://localhost:8080/",
     "height": 573
    },
    "id": "19Hj-yHX8OFu",
    "outputId": "50825040-f811-4012-aa64-0d51a631a0d1"
   },
   "outputs": [
    {
     "data": {
      "image/png": "[encoded data removed]",
      "text/plain": [
       "<Figure size 432x288 with 1 Axes>"
      ]
     },
     "metadata": {
      "needs_background": "light"
     },
     "output_type": "display_data"
    },
    {
     "data": {
      "image/png": "[encoded data removed]",
      "text/plain": [
       "<Figure size 432x288 with 1 Axes>"
      ]
     },
     "metadata": {
      "needs_background": "light"
     },
     "output_type": "display_data"
    }
   ],
   "source": [
    "affiche_evolution_apprentissage(h_es_lr)"
   ]
  },
  {
   "cell_type": "markdown",
   "metadata": {
    "id": "n47LpeTjKzac"
   },
   "source": [
    "## Sauver et récupérer des models"
   ]
  },
  {
   "cell_type": "code",
   "execution_count": 108,
   "metadata": {
    "colab": {
     "base_uri": "https://localhost:8080/"
    },
    "id": "gd8nf4wYKzac",
    "outputId": "894af318-2708-435b-ea7b-8e41e151b564"
   },
   "outputs": [
    {
     "name": "stdout",
     "output_type": "stream",
     "text": [
      "625/625 [==============================] - 2s 3ms/step - loss: 2.3005 - acc: 0.1837\n",
      "Initialement :  [2.300452470779419, 0.18369999527931213]\n",
      "625/625 [==============================] - 1s 2ms/step - loss: 2.3005 - acc: 0.1837\n",
      "Après suppression-récupération :  [2.300452470779419, 0.18369999527931213]\n",
      "<keras.engine.sequential.Sequential object at 0x7f15b040f520>\n"
     ]
    }
   ],
   "source": [
    "from keras.models import load_model\n",
    "\n",
    "# Eventuellement, installation d'un module nécessaire :\n",
    "#!pip3 install h5py\n",
    "\n",
    "score = model.evaluate(X_test, y_test, batch_size=16)\n",
    "print (\"Initialement : \", score)\n",
    "\n",
    "# Sauver le model \n",
    "model.save('mon_modele.h5')  # crée un fichier HDF5del model  \n",
    "\n",
    "# supprime le modèle\n",
    "del model\n",
    "\n",
    "# Récupérer le modèle   \n",
    "model = load_model('mon_modele.h5')\n",
    "\n",
    "score = model.evaluate(X_test, y_test, batch_size=16)\n",
    "print (\"Après suppression-récupération : \", score)\n",
    "print(model)"
   ]
  },
  {
   "cell_type": "markdown",
   "metadata": {
    "id": "ou5hUWlXKzad"
   },
   "source": [
    "## Utiliser Keras dans un code SciKit-learn (cross-validation / Grid search)\n",
    "\n",
    "Dans Scikit-Learn, il y a une classe *KerasClassifier* qu'il peut-être utile de savoir utiliser :"
   ]
  },
  {
   "cell_type": "code",
   "execution_count": 109,
   "metadata": {
    "colab": {
     "base_uri": "https://localhost:8080/"
    },
    "id": "uYcgQWINKzae",
    "outputId": "b87db1e4-3c27-40ee-ceef-eafdc441c5ac"
   },
   "outputs": [
    {
     "name": "stdout",
     "output_type": "stream",
     "text": [
      "{'optimizer': ['adam', 'rmsprop'], 'init': ['glorot_uniform'], 'nb_hid1': [100], 'do_rate': [0, 0.5]}\n",
      "Model: \"model_19\"\n",
      "_________________________________________________________________\n",
      " Layer (type)                Output Shape              Param #   \n",
      "=================================================================\n",
      " input_19 (InputLayer)       [(None, 784)]             0         \n",
      "                                                                 \n",
      " dense_67 (Dense)            (None, 64)                50240     \n",
      "                                                                 \n",
      " dense_68 (Dense)            (None, 64)                4160      \n",
      "                                                                 \n",
      " dense_69 (Dense)            (None, 10)                650       \n",
      "                                                                 \n",
      "=================================================================\n",
      "Total params: 55,050\n",
      "Trainable params: 55,050\n",
      "Non-trainable params: 0\n",
      "_________________________________________________________________\n"
     ]
    },
    {
     "name": "stderr",
     "output_type": "stream",
     "text": [
      "<ipython-input-109-1398f8a5cc2e>:32: DeprecationWarning: KerasClassifier is deprecated, use Sci-Keras (https://github.com/adriangb/scikeras) instead. See https://www.adriangb.com/scikeras/stable/migration.html for help migrating.\n",
      "  model = KerasClassifier(build_fn=create_model_Mnist)\n"
     ]
    },
    {
     "name": "stdout",
     "output_type": "stream",
     "text": [
      "Epoch 1/2\n",
      "1250/1250 - 4s - loss: 1.1320 - accuracy: 0.6470 - 4s/epoch - 3ms/step\n",
      "Epoch 2/2\n",
      "1250/1250 - 3s - loss: 0.5347 - accuracy: 0.8414 - 3s/epoch - 2ms/step\n",
      "625/625 [==============================] - 1s 2ms/step - loss: 0.4680 - accuracy: 0.8641\n",
      "Model: \"model_20\"\n",
      "_________________________________________________________________\n",
      " Layer (type)                Output Shape              Param #   \n",
      "=================================================================\n",
      " input_20 (InputLayer)       [(None, 784)]             0         \n",
      "                                                                 \n",
      " dense_70 (Dense)            (None, 64)                50240     \n",
      "                                                                 \n",
      " dense_71 (Dense)            (None, 64)                4160      \n",
      "                                                                 \n",
      " dense_72 (Dense)            (None, 10)                650       \n",
      "                                                                 \n",
      "=================================================================\n",
      "Total params: 55,050\n",
      "Trainable params: 55,050\n",
      "Non-trainable params: 0\n",
      "_________________________________________________________________\n",
      "Epoch 1/2\n",
      "1250/1250 - 4s - loss: 1.1193 - accuracy: 0.6677 - 4s/epoch - 4ms/step\n",
      "Epoch 2/2\n",
      "1250/1250 - 3s - loss: 0.4872 - accuracy: 0.8569 - 3s/epoch - 2ms/step\n",
      "625/625 [==============================] - 1s 2ms/step - loss: 0.4456 - accuracy: 0.8705\n",
      "Model: \"model_21\"\n",
      "_________________________________________________________________\n",
      " Layer (type)                Output Shape              Param #   \n",
      "=================================================================\n",
      " input_21 (InputLayer)       [(None, 784)]             0         \n",
      "                                                                 \n",
      " dense_73 (Dense)            (None, 64)                50240     \n",
      "                                                                 \n",
      " dense_74 (Dense)            (None, 64)                4160      \n",
      "                                                                 \n",
      " dense_75 (Dense)            (None, 10)                650       \n",
      "                                                                 \n",
      "=================================================================\n",
      "Total params: 55,050\n",
      "Trainable params: 55,050\n",
      "Non-trainable params: 0\n",
      "_________________________________________________________________\n",
      "Epoch 1/2\n",
      "1250/1250 - 4s - loss: 1.1304 - accuracy: 0.6349 - 4s/epoch - 3ms/step\n",
      "Epoch 2/2\n",
      "1250/1250 - 4s - loss: 0.5121 - accuracy: 0.8468 - 4s/epoch - 3ms/step\n",
      "625/625 [==============================] - 1s 2ms/step - loss: 0.4249 - accuracy: 0.8761\n",
      "Model: \"model_22\"\n",
      "_________________________________________________________________\n",
      " Layer (type)                Output Shape              Param #   \n",
      "=================================================================\n",
      " input_22 (InputLayer)       [(None, 784)]             0         \n",
      "                                                                 \n",
      " dense_76 (Dense)            (None, 64)                50240     \n",
      "                                                                 \n",
      " dense_77 (Dense)            (None, 64)                4160      \n",
      "                                                                 \n",
      " dense_78 (Dense)            (None, 10)                650       \n",
      "                                                                 \n",
      "=================================================================\n",
      "Total params: 55,050\n",
      "Trainable params: 55,050\n",
      "Non-trainable params: 0\n",
      "_________________________________________________________________\n",
      "Epoch 1/2\n",
      "1250/1250 - 3s - loss: 1.7078 - accuracy: 0.4444 - 3s/epoch - 3ms/step\n",
      "Epoch 2/2\n",
      "1250/1250 - 3s - loss: 0.7293 - accuracy: 0.7753 - 3s/epoch - 2ms/step\n",
      "625/625 [==============================] - 1s 2ms/step - loss: 0.6003 - accuracy: 0.8194\n",
      "Model: \"model_23\"\n",
      "_________________________________________________________________\n",
      " Layer (type)                Output Shape              Param #   \n",
      "=================================================================\n",
      " input_23 (InputLayer)       [(None, 784)]             0         \n",
      "                                                                 \n",
      " dense_79 (Dense)            (None, 64)                50240     \n",
      "                                                                 \n",
      " dense_80 (Dense)            (None, 64)                4160      \n",
      "                                                                 \n",
      " dense_81 (Dense)            (None, 10)                650       \n",
      "                                                                 \n",
      "=================================================================\n",
      "Total params: 55,050\n",
      "Trainable params: 55,050\n",
      "Non-trainable params: 0\n",
      "_________________________________________________________________\n",
      "Epoch 1/2\n",
      "1250/1250 - 3s - loss: 1.5958 - accuracy: 0.4634 - 3s/epoch - 3ms/step\n",
      "Epoch 2/2\n",
      "1250/1250 - 4s - loss: 0.7501 - accuracy: 0.7533 - 4s/epoch - 3ms/step\n",
      "625/625 [==============================] - 1s 2ms/step - loss: 0.6677 - accuracy: 0.7925\n",
      "Model: \"model_24\"\n",
      "_________________________________________________________________\n",
      " Layer (type)                Output Shape              Param #   \n",
      "=================================================================\n",
      " input_24 (InputLayer)       [(None, 784)]             0         \n",
      "                                                                 \n",
      " dense_82 (Dense)            (None, 64)                50240     \n",
      "                                                                 \n",
      " dense_83 (Dense)            (None, 64)                4160      \n",
      "                                                                 \n",
      " dense_84 (Dense)            (None, 10)                650       \n",
      "                                                                 \n",
      "=================================================================\n",
      "Total params: 55,050\n",
      "Trainable params: 55,050\n",
      "Non-trainable params: 0\n",
      "_________________________________________________________________\n",
      "Epoch 1/2\n",
      "1250/1250 - 3s - loss: 1.7511 - accuracy: 0.3925 - 3s/epoch - 3ms/step\n",
      "Epoch 2/2\n",
      "1250/1250 - 4s - loss: 0.8424 - accuracy: 0.7199 - 4s/epoch - 3ms/step\n",
      "625/625 [==============================] - 1s 2ms/step - loss: 0.6970 - accuracy: 0.7753\n",
      "Model: \"model_25\"\n",
      "_________________________________________________________________\n",
      " Layer (type)                Output Shape              Param #   \n",
      "=================================================================\n",
      " input_25 (InputLayer)       [(None, 784)]             0         \n",
      "                                                                 \n",
      " dense_85 (Dense)            (None, 64)                50240     \n",
      "                                                                 \n",
      " dense_86 (Dense)            (None, 64)                4160      \n",
      "                                                                 \n",
      " dense_87 (Dense)            (None, 10)                650       \n",
      "                                                                 \n",
      "=================================================================\n",
      "Total params: 55,050\n",
      "Trainable params: 55,050\n",
      "Non-trainable params: 0\n",
      "_________________________________________________________________\n",
      "Epoch 1/2\n",
      "1250/1250 - 4s - loss: 1.1127 - accuracy: 0.6701 - 4s/epoch - 3ms/step\n",
      "Epoch 2/2\n",
      "1250/1250 - 4s - loss: 0.4826 - accuracy: 0.8540 - 4s/epoch - 3ms/step\n",
      "625/625 [==============================] - 1s 2ms/step - loss: 0.4356 - accuracy: 0.8730\n",
      "Model: \"model_26\"\n",
      "_________________________________________________________________\n",
      " Layer (type)                Output Shape              Param #   \n",
      "=================================================================\n",
      " input_26 (InputLayer)       [(None, 784)]             0         \n",
      "                                                                 \n",
      " dense_88 (Dense)            (None, 64)                50240     \n",
      "                                                                 \n",
      " dense_89 (Dense)            (None, 64)                4160      \n",
      "                                                                 \n",
      " dense_90 (Dense)            (None, 10)                650       \n",
      "                                                                 \n",
      "=================================================================\n",
      "Total params: 55,050\n",
      "Trainable params: 55,050\n",
      "Non-trainable params: 0\n",
      "_________________________________________________________________\n",
      "Epoch 1/2\n",
      "1250/1250 - 4s - loss: 1.1593 - accuracy: 0.6237 - 4s/epoch - 3ms/step\n",
      "Epoch 2/2\n",
      "1250/1250 - 4s - loss: 0.5396 - accuracy: 0.8381 - 4s/epoch - 3ms/step\n",
      "625/625 [==============================] - 1s 2ms/step - loss: 0.4765 - accuracy: 0.8565\n",
      "Model: \"model_27\"\n",
      "_________________________________________________________________\n",
      " Layer (type)                Output Shape              Param #   \n",
      "=================================================================\n",
      " input_27 (InputLayer)       [(None, 784)]             0         \n",
      "                                                                 \n",
      " dense_91 (Dense)            (None, 64)                50240     \n",
      "                                                                 \n",
      " dense_92 (Dense)            (None, 64)                4160      \n",
      "                                                                 \n",
      " dense_93 (Dense)            (None, 10)                650       \n",
      "                                                                 \n",
      "=================================================================\n",
      "Total params: 55,050\n",
      "Trainable params: 55,050\n",
      "Non-trainable params: 0\n",
      "_________________________________________________________________\n",
      "Epoch 1/2\n",
      "1250/1250 - 4s - loss: 1.1695 - accuracy: 0.6324 - 4s/epoch - 3ms/step\n",
      "Epoch 2/2\n",
      "1250/1250 - 4s - loss: 0.5444 - accuracy: 0.8403 - 4s/epoch - 3ms/step\n",
      "625/625 [==============================] - 1s 2ms/step - loss: 0.4517 - accuracy: 0.8711\n",
      "Model: \"model_28\"\n",
      "_________________________________________________________________\n",
      " Layer (type)                Output Shape              Param #   \n",
      "=================================================================\n",
      " input_28 (InputLayer)       [(None, 784)]             0         \n",
      "                                                                 \n",
      " dense_94 (Dense)            (None, 64)                50240     \n",
      "                                                                 \n",
      " dense_95 (Dense)            (None, 64)                4160      \n",
      "                                                                 \n",
      " dense_96 (Dense)            (None, 10)                650       \n",
      "                                                                 \n",
      "=================================================================\n",
      "Total params: 55,050\n",
      "Trainable params: 55,050\n",
      "Non-trainable params: 0\n",
      "_________________________________________________________________\n",
      "Epoch 1/2\n",
      "1250/1250 - 4s - loss: 1.6645 - accuracy: 0.4321 - 4s/epoch - 3ms/step\n",
      "Epoch 2/2\n",
      "1250/1250 - 3s - loss: 0.7686 - accuracy: 0.7497 - 3s/epoch - 2ms/step\n",
      "625/625 [==============================] - 1s 2ms/step - loss: 0.6708 - accuracy: 0.7928\n",
      "Model: \"model_29\"\n",
      "_________________________________________________________________\n",
      " Layer (type)                Output Shape              Param #   \n",
      "=================================================================\n",
      " input_29 (InputLayer)       [(None, 784)]             0         \n",
      "                                                                 \n",
      " dense_97 (Dense)            (None, 64)                50240     \n",
      "                                                                 \n",
      " dense_98 (Dense)            (None, 64)                4160      \n",
      "                                                                 \n",
      " dense_99 (Dense)            (None, 10)                650       \n",
      "                                                                 \n",
      "=================================================================\n",
      "Total params: 55,050\n",
      "Trainable params: 55,050\n",
      "Non-trainable params: 0\n",
      "_________________________________________________________________\n",
      "Epoch 1/2\n",
      "1250/1250 - 4s - loss: 1.7498 - accuracy: 0.4436 - 4s/epoch - 3ms/step\n",
      "Epoch 2/2\n",
      "1250/1250 - 3s - loss: 0.7814 - accuracy: 0.7520 - 3s/epoch - 2ms/step\n",
      "625/625 [==============================] - 2s 2ms/step - loss: 0.6844 - accuracy: 0.7836\n",
      "Model: \"model_30\"\n",
      "_________________________________________________________________\n",
      " Layer (type)                Output Shape              Param #   \n",
      "=================================================================\n",
      " input_30 (InputLayer)       [(None, 784)]             0         \n",
      "                                                                 \n",
      " dense_100 (Dense)           (None, 64)                50240     \n",
      "                                                                 \n",
      " dense_101 (Dense)           (None, 64)                4160      \n",
      "                                                                 \n",
      " dense_102 (Dense)           (None, 10)                650       \n",
      "                                                                 \n",
      "=================================================================\n",
      "Total params: 55,050\n",
      "Trainable params: 55,050\n",
      "Non-trainable params: 0\n",
      "_________________________________________________________________\n",
      "Epoch 1/2\n",
      "1250/1250 - 3s - loss: 1.6617 - accuracy: 0.4636 - 3s/epoch - 3ms/step\n",
      "Epoch 2/2\n",
      "1250/1250 - 3s - loss: 0.7207 - accuracy: 0.7783 - 3s/epoch - 2ms/step\n",
      "625/625 [==============================] - 1s 2ms/step - loss: 0.5649 - accuracy: 0.8303\n",
      "Model: \"model_31\"\n",
      "_________________________________________________________________\n",
      " Layer (type)                Output Shape              Param #   \n",
      "=================================================================\n",
      " input_31 (InputLayer)       [(None, 784)]             0         \n",
      "                                                                 \n",
      " dense_103 (Dense)           (None, 64)                50240     \n",
      "                                                                 \n",
      " dense_104 (Dense)           (None, 64)                4160      \n",
      "                                                                 \n",
      " dense_105 (Dense)           (None, 10)                650       \n",
      "                                                                 \n",
      "=================================================================\n",
      "Total params: 55,050\n",
      "Trainable params: 55,050\n",
      "Non-trainable params: 0\n",
      "_________________________________________________________________\n",
      "Epoch 1/2\n",
      "1875/1875 - 6s - loss: 0.9165 - accuracy: 0.7138 - 6s/epoch - 3ms/step\n",
      "Epoch 2/2\n",
      "1875/1875 - 4s - loss: 0.4277 - accuracy: 0.8755 - 4s/epoch - 2ms/step\n",
      "-----------------------------\n",
      "Best: 0.870250 using {'do_rate': 0, 'init': 'glorot_uniform', 'nb_hid1': 100, 'optimizer': 'adam'}\n",
      "-----------------------------\n",
      "0.870250 (0.004882) with: {'do_rate': 0, 'init': 'glorot_uniform', 'nb_hid1': 100, 'optimizer': 'adam'}\n",
      "0.795733 (0.018133) with: {'do_rate': 0, 'init': 'glorot_uniform', 'nb_hid1': 100, 'optimizer': 'rmsprop'}\n",
      "0.866850 (0.007324) with: {'do_rate': 0.5, 'init': 'glorot_uniform', 'nb_hid1': 100, 'optimizer': 'adam'}\n",
      "0.802250 (0.020214) with: {'do_rate': 0.5, 'init': 'glorot_uniform', 'nb_hid1': 100, 'optimizer': 'rmsprop'}\n"
     ]
    }
   ],
   "source": [
    "from keras.models import Sequential\n",
    "from keras.layers.core import Dense, Dropout, Activation\n",
    "from keras.optimizers import SGD, Adam, RMSprop\n",
    "\n",
    "from keras.wrappers.scikit_learn import KerasClassifier\n",
    "from sklearn.model_selection import GridSearchCV\n",
    "\n",
    "def create_model_Mnist(optimizer='rmsprop', input_datadim = 784, init='glorot_uniform', nb_hid1= 20, do_rate= 0.5 ):\n",
    "    # fonction créant un modèle pour MNIST\n",
    "    \"\"\"\n",
    "    #Jusqu'à présent :\n",
    "    m = Sequential()\n",
    "    m.add(Dense(nb_hid1, input_dim=input_datadim, activation='relu'))\n",
    "    m.add(Dropout(do_rate))\n",
    "    m.add(Dense(64, activation='relu'))\n",
    "    m.add(Dropout(do_rate))\n",
    "    m.add(Dense(10, activation='softmax'))\n",
    "    \"\"\"\n",
    "    # De façon équivalente :\n",
    "    entree= Input(shape=(784,))\n",
    "    cachee_1= Dense(64, activation='relu')(entree)\n",
    "    cachee_2 = Dense(64, activation='relu')(cachee_1)\n",
    "    sortie = Dense(10, activation=\"softmax\")(cachee_2)\n",
    "    m = Model(entree, sortie)\n",
    "    \n",
    "    m.compile(loss='categorical_crossentropy',\n",
    "              optimizer=optimizer,\n",
    "              metrics=['accuracy'])\n",
    "    m.summary()\n",
    "    return m\n",
    "\n",
    "model = KerasClassifier(build_fn=create_model_Mnist)\n",
    "\n",
    "# valeurs des différents paramètres\n",
    "optimizers = ['adam', 'rmsprop']\n",
    "init = ['glorot_uniform']\n",
    "V_nb_hid1 = [100]\n",
    "DO_rate=[0, 0.5]\n",
    "\n",
    "epochs = 2\n",
    "\n",
    "param_grid = dict(optimizer=optimizers, init=init,  nb_hid1=V_nb_hid1, do_rate= DO_rate)\n",
    "\n",
    "print(param_grid)\n",
    "\n",
    "grid = GridSearchCV(estimator=model, param_grid=param_grid, cv=3)\n",
    "grid_result = grid.fit(X_train, y_train, epochs = epochs, verbose=2)\n",
    "\n",
    "# Résumé des résultats\n",
    "print(\"-----------------------------\")\n",
    "print(\"Best: %f using %s\" % (grid_result.best_score_, grid_result.best_params_))\n",
    "\n",
    "print(\"-----------------------------\")\n",
    "means = grid_result.cv_results_['mean_test_score']\n",
    "stds = grid_result.cv_results_['std_test_score']\n",
    "params = grid_result.cv_results_['params']\n",
    "for mean, stdev, param in zip(means, stds, params):\n",
    "    print(\"%f (%f) with: %r\" % (mean, stdev, param))"
   ]
  },
  {
   "cell_type": "markdown",
   "metadata": {
    "id": "k3HKr4GWKzaf"
   },
   "source": [
    "### Récupération des vecteurs d'activation d'une couche\n",
    "Une fois un réseau appris, on peut avoir besoin des vecteurs de sortie d'une couche cachée. Avec Keras, il suffit de créer un nouveau modèle qui ne contient que le début du réseau jusqu'à la couche dont on veut accéder aux sorties."
   ]
  },
  {
   "cell_type": "code",
   "execution_count": 110,
   "metadata": {
    "colab": {
     "base_uri": "https://localhost:8080/"
    },
    "id": "6dQTKDYlKzaf",
    "outputId": "cee5a0f0-e21e-4038-cc4f-a8bb3b5ea8e5"
   },
   "outputs": [
    {
     "name": "stdout",
     "output_type": "stream",
     "text": [
      "Epoch 1/2\n",
      "2513/2513 [==============================] - 10s 4ms/step - loss: 0.9267 - accuracy: 0.7164 - val_loss: 0.5350 - val_accuracy: 0.8406\n",
      "Epoch 2/2\n",
      "2513/2513 [==============================] - 9s 4ms/step - loss: 0.4599 - accuracy: 0.8671 - val_loss: 0.3898 - val_accuracy: 0.8879\n"
     ]
    },
    {
     "data": {
      "text/plain": [
       "<keras.callbacks.History at 0x7f15bc578100>"
      ]
     },
     "execution_count": 110,
     "metadata": {},
     "output_type": "execute_result"
    }
   ],
   "source": [
    "#réseau complet\n",
    "entree= Input(shape=(784,))\n",
    "cachee_1= Dense(64, activation='relu')(entree)\n",
    "cachee_2 = Dense(64, activation='relu')(cachee_1)\n",
    "sortie = Dense(10, activation=\"softmax\")(cachee_2)\n",
    "m = Model(entree, sortie)\n",
    "\n",
    "#apprentissage\n",
    "m.compile(loss='categorical_crossentropy',\n",
    "              optimizer='adam',\n",
    "              metrics=['accuracy'])\n",
    "m.fit(X_train, y_train, epochs=2, batch_size=16, verbose =1, validation_split=0.33)"
   ]
  },
  {
   "cell_type": "code",
   "execution_count": 111,
   "metadata": {
    "colab": {
     "base_uri": "https://localhost:8080/"
    },
    "id": "z8AQOXdsKzah",
    "outputId": "d9994e3c-259c-4aea-86bc-299561ac57af"
   },
   "outputs": [
    {
     "name": "stdout",
     "output_type": "stream",
     "text": [
      "313/313 [==============================] - 1s 2ms/step\n",
      "(10000, 64)\n"
     ]
    }
   ],
   "source": [
    "#réseau partiel\n",
    "m2 = Model(entree,cachee_1)\n",
    "\n",
    "#On aurait aussi pu faire :\n",
    "# m2 = Sequential()\n",
    "# m2.add(Dense(64,input_dim=784, activation='relu', weights=m.layers[0].get_weights()))\n",
    "\n",
    "#récupération d'une matrice d'activation :\n",
    "#chaque ligne est le vecteur de sortie de la dernière couche de m2 pour la donnée correspondante\n",
    "activite = m2.predict(X_test)\n",
    "print(activite.shape)"
   ]
  },
  {
   "cell_type": "markdown",
   "metadata": {
    "id": "nm_1e_mnKzai"
   },
   "source": [
    "# A faire\n",
    "\n",
    "## Apprentissage d'un réseau de neurones sur les données iris\n",
    "\n",
    "\n",
    "Apprendre un réseau de neuronnes réalisant la classification 3 classes sur les données iris.\n"
   ]
  },
  {
   "cell_type": "markdown",
   "metadata": {
    "id": "vnO16zecKzai"
   },
   "source": [
    "**Question**. En utilisant Pandas, lire les données iris à partir de la bibliothèque Sklearn et compléter les instructions ci-dessous:"
   ]
  },
  {
   "cell_type": "code",
   "execution_count": 112,
   "metadata": {
    "colab": {
     "base_uri": "https://localhost:8080/",
     "height": 206
    },
    "id": "KpDwdbOjKzaj",
    "outputId": "68029aa9-b061-401e-83ac-720e960e6054"
   },
   "outputs": [
    {
     "data": {
      "text/html": [
       "\n",
       "  <div id=\"df-c98f74b3-51ef-479b-b859-54aeac6941d6\">\n",
       "    <div class=\"colab-df-container\">\n",
       "      <div>\n",
       "<style scoped>\n",
       "    .dataframe tbody tr th:only-of-type {\n",
       "        vertical-align: middle;\n",
       "    }\n",
       "\n",
       "    .dataframe tbody tr th {\n",
       "        vertical-align: top;\n",
       "    }\n",
       "\n",
       "    .dataframe thead th {\n",
       "        text-align: right;\n",
       "    }\n",
       "</style>\n",
       "<table border=\"1\" class=\"dataframe\">\n",
       "  <thead>\n",
       "    <tr style=\"text-align: right;\">\n",
       "      <th></th>\n",
       "      <th>sepal length (cm)</th>\n",
       "      <th>sepal width (cm)</th>\n",
       "      <th>petal length (cm)</th>\n",
       "      <th>petal width (cm)</th>\n",
       "      <th>label</th>\n",
       "    </tr>\n",
       "  </thead>\n",
       "  <tbody>\n",
       "    <tr>\n",
       "      <th>0</th>\n",
       "      <td>5.1</td>\n",
       "      <td>3.5</td>\n",
       "      <td>1.4</td>\n",
       "      <td>0.2</td>\n",
       "      <td>setosa</td>\n",
       "    </tr>\n",
       "    <tr>\n",
       "      <th>1</th>\n",
       "      <td>4.9</td>\n",
       "      <td>3.0</td>\n",
       "      <td>1.4</td>\n",
       "      <td>0.2</td>\n",
       "      <td>setosa</td>\n",
       "    </tr>\n",
       "    <tr>\n",
       "      <th>2</th>\n",
       "      <td>4.7</td>\n",
       "      <td>3.2</td>\n",
       "      <td>1.3</td>\n",
       "      <td>0.2</td>\n",
       "      <td>setosa</td>\n",
       "    </tr>\n",
       "    <tr>\n",
       "      <th>3</th>\n",
       "      <td>4.6</td>\n",
       "      <td>3.1</td>\n",
       "      <td>1.5</td>\n",
       "      <td>0.2</td>\n",
       "      <td>setosa</td>\n",
       "    </tr>\n",
       "    <tr>\n",
       "      <th>4</th>\n",
       "      <td>5.0</td>\n",
       "      <td>3.6</td>\n",
       "      <td>1.4</td>\n",
       "      <td>0.2</td>\n",
       "      <td>setosa</td>\n",
       "    </tr>\n",
       "  </tbody>\n",
       "</table>\n",
       "</div>\n",
       "      <button class=\"colab-df-convert\" onclick=\"convertToInteractive('df-c98f74b3-51ef-479b-b859-54aeac6941d6')\"\n",
       "              title=\"Convert this dataframe to an interactive table.\"\n",
       "              style=\"display:none;\">\n",
       "        \n",
       "  <svg xmlns=\"http://www.w3.org/2000/svg\" height=\"24px\"viewBox=\"0 0 24 24\"\n",
       "       width=\"24px\">\n",
       "    <path d=\"M0 0h24v24H0V0z\" fill=\"none\"/>\n",
       "    <path d=\"M18.56 5.44l.94 2.06.94-2.06 2.06-.94-2.06-.94-.94-2.06-.94 2.06-2.06.94zm-11 1L8.5 8.5l.94-2.06 2.06-.94-2.06-.94L8.5 2.5l-.94 2.06-2.06.94zm10 10l.94 2.06.94-2.06 2.06-.94-2.06-.94-.94-2.06-.94 2.06-2.06.94z\"/><path d=\"M17.41 7.96l-1.37-1.37c-.4-.4-.92-.59-1.43-.59-.52 0-1.04.2-1.43.59L10.3 9.45l-7.72 7.72c-.78.78-.78 2.05 0 2.83L4 21.41c.39.39.9.59 1.41.59.51 0 1.02-.2 1.41-.59l7.78-7.78 2.81-2.81c.8-.78.8-2.07 0-2.86zM5.41 20L4 18.59l7.72-7.72 1.47 1.35L5.41 20z\"/>\n",
       "  </svg>\n",
       "      </button>\n",
       "      \n",
       "  <style>\n",
       "    .colab-df-container {\n",
       "      display:flex;\n",
       "      flex-wrap:wrap;\n",
       "      gap: 12px;\n",
       "    }\n",
       "\n",
       "    .colab-df-convert {\n",
       "      background-color: #E8F0FE;\n",
       "      border: none;\n",
       "      border-radius: 50%;\n",
       "      cursor: pointer;\n",
       "      display: none;\n",
       "      fill: #1967D2;\n",
       "      height: 32px;\n",
       "      padding: 0 0 0 0;\n",
       "      width: 32px;\n",
       "    }\n",
       "\n",
       "    .colab-df-convert:hover {\n",
       "      background-color: #E2EBFA;\n",
       "      box-shadow: 0px 1px 2px rgba(60, 64, 67, 0.3), 0px 1px 3px 1px rgba(60, 64, 67, 0.15);\n",
       "      fill: #174EA6;\n",
       "    }\n",
       "\n",
       "    [theme=dark] .colab-df-convert {\n",
       "      background-color: #3B4455;\n",
       "      fill: #D2E3FC;\n",
       "    }\n",
       "\n",
       "    [theme=dark] .colab-df-convert:hover {\n",
       "      background-color: #434B5C;\n",
       "      box-shadow: 0px 1px 3px 1px rgba(0, 0, 0, 0.15);\n",
       "      filter: drop-shadow(0px 1px 2px rgba(0, 0, 0, 0.3));\n",
       "      fill: #FFFFFF;\n",
       "    }\n",
       "  </style>\n",
       "\n",
       "      <script>\n",
       "        const buttonEl =\n",
       "          document.querySelector('#df-c98f74b3-51ef-479b-b859-54aeac6941d6 button.colab-df-convert');\n",
       "        buttonEl.style.display =\n",
       "          google.colab.kernel.accessAllowed ? 'block' : 'none';\n",
       "\n",
       "        async function convertToInteractive(key) {\n",
       "          const element = document.querySelector('#df-c98f74b3-51ef-479b-b859-54aeac6941d6');\n",
       "          const dataTable =\n",
       "            await google.colab.kernel.invokeFunction('convertToInteractive',\n",
       "                                                     [key], {});\n",
       "          if (!dataTable) return;\n",
       "\n",
       "          const docLinkHtml = 'Like what you see? Visit the ' +\n",
       "            '<a target=\"_blank\" href=https://colab.research.google.com/notebooks/data_table.ipynb>data table notebook</a>'\n",
       "            + ' to learn more about interactive tables.';\n",
       "          element.innerHTML = '';\n",
       "          dataTable['output_type'] = 'display_data';\n",
       "          await google.colab.output.renderOutput(dataTable, element);\n",
       "          const docLink = document.createElement('div');\n",
       "          docLink.innerHTML = docLinkHtml;\n",
       "          element.appendChild(docLink);\n",
       "        }\n",
       "      </script>\n",
       "    </div>\n",
       "  </div>\n",
       "  "
      ],
      "text/plain": [
       "   sepal length (cm)  sepal width (cm)  petal length (cm)  petal width (cm)  \\\n",
       "0                5.1               3.5                1.4               0.2   \n",
       "1                4.9               3.0                1.4               0.2   \n",
       "2                4.7               3.2                1.3               0.2   \n",
       "3                4.6               3.1                1.5               0.2   \n",
       "4                5.0               3.6                1.4               0.2   \n",
       "\n",
       "    label  \n",
       "0  setosa  \n",
       "1  setosa  \n",
       "2  setosa  \n",
       "3  setosa  \n",
       "4  setosa  "
      ]
     },
     "execution_count": 112,
     "metadata": {},
     "output_type": "execute_result"
    }
   ],
   "source": [
    "from sklearn.datasets import load_iris\n",
    "import pandas as pd\n",
    "\n",
    "\n",
    "# Lire les données iris\n",
    "iris = load_iris()\n",
    "\n",
    "\n",
    "\n",
    "# Charger des données dans un DataFrame\n",
    "\n",
    "#..........Ecrire votre instruction ici............\n",
    "df = load_iris(return_X_y=False, as_frame=True).data\n",
    "\n",
    "\n",
    "# Convertir le type de données en float\n",
    "\n",
    "#..........Ecrire votre instruction ici............\n",
    "for i in range(df.shape[1]): \n",
    "    df.iloc[:,i] = df.iloc[:,i].astype('float32')\n",
    "\n",
    "# ajoutez \"target\" dans le DataFrame et nommez-le \"label\"\n",
    "\n",
    "#..........Ecrire votre instruction ici............\n",
    "df['label'] = load_iris(return_X_y=False, as_frame=True).target\n",
    "\n",
    "\n",
    "# Utilisez plutôt une étiquette de chaîne\n",
    "df['label'] = df.label.replace(dict(enumerate(iris.target_names)))\n",
    "df.head()\n"
   ]
  },
  {
   "cell_type": "markdown",
   "metadata": {
    "id": "g25YoYKLKzak"
   },
   "source": [
    "**Question.** Afficher le contenu du DataFrame"
   ]
  },
  {
   "cell_type": "code",
   "execution_count": 113,
   "metadata": {
    "colab": {
     "base_uri": "https://localhost:8080/",
     "height": 423
    },
    "id": "OP0ET6j9Kzak",
    "outputId": "81710690-5449-472a-aeeb-fc7fd33dd0e2"
   },
   "outputs": [
    {
     "data": {
      "text/html": [
       "\n",
       "  <div id=\"df-706e79d6-fba5-4eb5-a540-8c0f9d263aeb\">\n",
       "    <div class=\"colab-df-container\">\n",
       "      <div>\n",
       "<style scoped>\n",
       "    .dataframe tbody tr th:only-of-type {\n",
       "        vertical-align: middle;\n",
       "    }\n",
       "\n",
       "    .dataframe tbody tr th {\n",
       "        vertical-align: top;\n",
       "    }\n",
       "\n",
       "    .dataframe thead th {\n",
       "        text-align: right;\n",
       "    }\n",
       "</style>\n",
       "<table border=\"1\" class=\"dataframe\">\n",
       "  <thead>\n",
       "    <tr style=\"text-align: right;\">\n",
       "      <th></th>\n",
       "      <th>sepal length (cm)</th>\n",
       "      <th>sepal width (cm)</th>\n",
       "      <th>petal length (cm)</th>\n",
       "      <th>petal width (cm)</th>\n",
       "      <th>label</th>\n",
       "    </tr>\n",
       "  </thead>\n",
       "  <tbody>\n",
       "    <tr>\n",
       "      <th>0</th>\n",
       "      <td>5.1</td>\n",
       "      <td>3.5</td>\n",
       "      <td>1.4</td>\n",
       "      <td>0.2</td>\n",
       "      <td>setosa</td>\n",
       "    </tr>\n",
       "    <tr>\n",
       "      <th>1</th>\n",
       "      <td>4.9</td>\n",
       "      <td>3.0</td>\n",
       "      <td>1.4</td>\n",
       "      <td>0.2</td>\n",
       "      <td>setosa</td>\n",
       "    </tr>\n",
       "    <tr>\n",
       "      <th>2</th>\n",
       "      <td>4.7</td>\n",
       "      <td>3.2</td>\n",
       "      <td>1.3</td>\n",
       "      <td>0.2</td>\n",
       "      <td>setosa</td>\n",
       "    </tr>\n",
       "    <tr>\n",
       "      <th>3</th>\n",
       "      <td>4.6</td>\n",
       "      <td>3.1</td>\n",
       "      <td>1.5</td>\n",
       "      <td>0.2</td>\n",
       "      <td>setosa</td>\n",
       "    </tr>\n",
       "    <tr>\n",
       "      <th>4</th>\n",
       "      <td>5.0</td>\n",
       "      <td>3.6</td>\n",
       "      <td>1.4</td>\n",
       "      <td>0.2</td>\n",
       "      <td>setosa</td>\n",
       "    </tr>\n",
       "    <tr>\n",
       "      <th>...</th>\n",
       "      <td>...</td>\n",
       "      <td>...</td>\n",
       "      <td>...</td>\n",
       "      <td>...</td>\n",
       "      <td>...</td>\n",
       "    </tr>\n",
       "    <tr>\n",
       "      <th>145</th>\n",
       "      <td>6.7</td>\n",
       "      <td>3.0</td>\n",
       "      <td>5.2</td>\n",
       "      <td>2.3</td>\n",
       "      <td>virginica</td>\n",
       "    </tr>\n",
       "    <tr>\n",
       "      <th>146</th>\n",
       "      <td>6.3</td>\n",
       "      <td>2.5</td>\n",
       "      <td>5.0</td>\n",
       "      <td>1.9</td>\n",
       "      <td>virginica</td>\n",
       "    </tr>\n",
       "    <tr>\n",
       "      <th>147</th>\n",
       "      <td>6.5</td>\n",
       "      <td>3.0</td>\n",
       "      <td>5.2</td>\n",
       "      <td>2.0</td>\n",
       "      <td>virginica</td>\n",
       "    </tr>\n",
       "    <tr>\n",
       "      <th>148</th>\n",
       "      <td>6.2</td>\n",
       "      <td>3.4</td>\n",
       "      <td>5.4</td>\n",
       "      <td>2.3</td>\n",
       "      <td>virginica</td>\n",
       "    </tr>\n",
       "    <tr>\n",
       "      <th>149</th>\n",
       "      <td>5.9</td>\n",
       "      <td>3.0</td>\n",
       "      <td>5.1</td>\n",
       "      <td>1.8</td>\n",
       "      <td>virginica</td>\n",
       "    </tr>\n",
       "  </tbody>\n",
       "</table>\n",
       "<p>150 rows × 5 columns</p>\n",
       "</div>\n",
       "      <button class=\"colab-df-convert\" onclick=\"convertToInteractive('df-706e79d6-fba5-4eb5-a540-8c0f9d263aeb')\"\n",
       "              title=\"Convert this dataframe to an interactive table.\"\n",
       "              style=\"display:none;\">\n",
       "        \n",
       "  <svg xmlns=\"http://www.w3.org/2000/svg\" height=\"24px\"viewBox=\"0 0 24 24\"\n",
       "       width=\"24px\">\n",
       "    <path d=\"M0 0h24v24H0V0z\" fill=\"none\"/>\n",
       "    <path d=\"M18.56 5.44l.94 2.06.94-2.06 2.06-.94-2.06-.94-.94-2.06-.94 2.06-2.06.94zm-11 1L8.5 8.5l.94-2.06 2.06-.94-2.06-.94L8.5 2.5l-.94 2.06-2.06.94zm10 10l.94 2.06.94-2.06 2.06-.94-2.06-.94-.94-2.06-.94 2.06-2.06.94z\"/><path d=\"M17.41 7.96l-1.37-1.37c-.4-.4-.92-.59-1.43-.59-.52 0-1.04.2-1.43.59L10.3 9.45l-7.72 7.72c-.78.78-.78 2.05 0 2.83L4 21.41c.39.39.9.59 1.41.59.51 0 1.02-.2 1.41-.59l7.78-7.78 2.81-2.81c.8-.78.8-2.07 0-2.86zM5.41 20L4 18.59l7.72-7.72 1.47 1.35L5.41 20z\"/>\n",
       "  </svg>\n",
       "      </button>\n",
       "      \n",
       "  <style>\n",
       "    .colab-df-container {\n",
       "      display:flex;\n",
       "      flex-wrap:wrap;\n",
       "      gap: 12px;\n",
       "    }\n",
       "\n",
       "    .colab-df-convert {\n",
       "      background-color: #E8F0FE;\n",
       "      border: none;\n",
       "      border-radius: 50%;\n",
       "      cursor: pointer;\n",
       "      display: none;\n",
       "      fill: #1967D2;\n",
       "      height: 32px;\n",
       "      padding: 0 0 0 0;\n",
       "      width: 32px;\n",
       "    }\n",
       "\n",
       "    .colab-df-convert:hover {\n",
       "      background-color: #E2EBFA;\n",
       "      box-shadow: 0px 1px 2px rgba(60, 64, 67, 0.3), 0px 1px 3px 1px rgba(60, 64, 67, 0.15);\n",
       "      fill: #174EA6;\n",
       "    }\n",
       "\n",
       "    [theme=dark] .colab-df-convert {\n",
       "      background-color: #3B4455;\n",
       "      fill: #D2E3FC;\n",
       "    }\n",
       "\n",
       "    [theme=dark] .colab-df-convert:hover {\n",
       "      background-color: #434B5C;\n",
       "      box-shadow: 0px 1px 3px 1px rgba(0, 0, 0, 0.15);\n",
       "      filter: drop-shadow(0px 1px 2px rgba(0, 0, 0, 0.3));\n",
       "      fill: #FFFFFF;\n",
       "    }\n",
       "  </style>\n",
       "\n",
       "      <script>\n",
       "        const buttonEl =\n",
       "          document.querySelector('#df-706e79d6-fba5-4eb5-a540-8c0f9d263aeb button.colab-df-convert');\n",
       "        buttonEl.style.display =\n",
       "          google.colab.kernel.accessAllowed ? 'block' : 'none';\n",
       "\n",
       "        async function convertToInteractive(key) {\n",
       "          const element = document.querySelector('#df-706e79d6-fba5-4eb5-a540-8c0f9d263aeb');\n",
       "          const dataTable =\n",
       "            await google.colab.kernel.invokeFunction('convertToInteractive',\n",
       "                                                     [key], {});\n",
       "          if (!dataTable) return;\n",
       "\n",
       "          const docLinkHtml = 'Like what you see? Visit the ' +\n",
       "            '<a target=\"_blank\" href=https://colab.research.google.com/notebooks/data_table.ipynb>data table notebook</a>'\n",
       "            + ' to learn more about interactive tables.';\n",
       "          element.innerHTML = '';\n",
       "          dataTable['output_type'] = 'display_data';\n",
       "          await google.colab.output.renderOutput(dataTable, element);\n",
       "          const docLink = document.createElement('div');\n",
       "          docLink.innerHTML = docLinkHtml;\n",
       "          element.appendChild(docLink);\n",
       "        }\n",
       "      </script>\n",
       "    </div>\n",
       "  </div>\n",
       "  "
      ],
      "text/plain": [
       "     sepal length (cm)  sepal width (cm)  petal length (cm)  petal width (cm)  \\\n",
       "0                  5.1               3.5                1.4               0.2   \n",
       "1                  4.9               3.0                1.4               0.2   \n",
       "2                  4.7               3.2                1.3               0.2   \n",
       "3                  4.6               3.1                1.5               0.2   \n",
       "4                  5.0               3.6                1.4               0.2   \n",
       "..                 ...               ...                ...               ...   \n",
       "145                6.7               3.0                5.2               2.3   \n",
       "146                6.3               2.5                5.0               1.9   \n",
       "147                6.5               3.0                5.2               2.0   \n",
       "148                6.2               3.4                5.4               2.3   \n",
       "149                5.9               3.0                5.1               1.8   \n",
       "\n",
       "         label  \n",
       "0       setosa  \n",
       "1       setosa  \n",
       "2       setosa  \n",
       "3       setosa  \n",
       "4       setosa  \n",
       "..         ...  \n",
       "145  virginica  \n",
       "146  virginica  \n",
       "147  virginica  \n",
       "148  virginica  \n",
       "149  virginica  \n",
       "\n",
       "[150 rows x 5 columns]"
      ]
     },
     "execution_count": 113,
     "metadata": {},
     "output_type": "execute_result"
    }
   ],
   "source": [
    "df"
   ]
  },
  {
   "cell_type": "markdown",
   "metadata": {
    "id": "wBU0LUBkKzak"
   },
   "source": [
    "**Question.** Transformer les labels de classes en des vecteurs de type one-hot-code et supprimer l'ancien label"
   ]
  },
  {
   "cell_type": "code",
   "execution_count": 114,
   "metadata": {
    "colab": {
     "base_uri": "https://localhost:8080/"
    },
    "id": "Ki49KGACKzal",
    "outputId": "57521f47-5a00-42b5-c763-94f22776d1d5"
   },
   "outputs": [
    {
     "data": {
      "text/plain": [
       "(150, 3)"
      ]
     },
     "execution_count": 114,
     "metadata": {},
     "output_type": "execute_result"
    }
   ],
   "source": [
    "nb_classes = 3\n",
    "\n",
    "Y = load_iris(return_X_y=False, as_frame=True).target\n",
    "y =  np_utils.to_categorical(Y, nb_classes)\n",
    "del df['label']\n",
    "y.shape\n"
   ]
  },
  {
   "cell_type": "markdown",
   "metadata": {
    "id": "NFeIU8y0Kzal"
   },
   "source": [
    "**Question.** Ré-afficher le contenu du nouveau DataFrame."
   ]
  },
  {
   "cell_type": "code",
   "execution_count": 115,
   "metadata": {
    "colab": {
     "base_uri": "https://localhost:8080/",
     "height": 423
    },
    "id": "UyHbn569Kzam",
    "outputId": "d63ff3e5-beda-4aa3-f56d-f0f86797c86b"
   },
   "outputs": [
    {
     "data": {
      "text/html": [
       "\n",
       "  <div id=\"df-eb9e4dcf-e359-4703-a64e-fc1274603bba\">\n",
       "    <div class=\"colab-df-container\">\n",
       "      <div>\n",
       "<style scoped>\n",
       "    .dataframe tbody tr th:only-of-type {\n",
       "        vertical-align: middle;\n",
       "    }\n",
       "\n",
       "    .dataframe tbody tr th {\n",
       "        vertical-align: top;\n",
       "    }\n",
       "\n",
       "    .dataframe thead th {\n",
       "        text-align: right;\n",
       "    }\n",
       "</style>\n",
       "<table border=\"1\" class=\"dataframe\">\n",
       "  <thead>\n",
       "    <tr style=\"text-align: right;\">\n",
       "      <th></th>\n",
       "      <th>sepal length (cm)</th>\n",
       "      <th>sepal width (cm)</th>\n",
       "      <th>petal length (cm)</th>\n",
       "      <th>petal width (cm)</th>\n",
       "      <th>setosa</th>\n",
       "      <th>versicolor</th>\n",
       "      <th>virginica</th>\n",
       "    </tr>\n",
       "  </thead>\n",
       "  <tbody>\n",
       "    <tr>\n",
       "      <th>0</th>\n",
       "      <td>5.1</td>\n",
       "      <td>3.5</td>\n",
       "      <td>1.4</td>\n",
       "      <td>0.2</td>\n",
       "      <td>1.0</td>\n",
       "      <td>0.0</td>\n",
       "      <td>0.0</td>\n",
       "    </tr>\n",
       "    <tr>\n",
       "      <th>1</th>\n",
       "      <td>4.9</td>\n",
       "      <td>3.0</td>\n",
       "      <td>1.4</td>\n",
       "      <td>0.2</td>\n",
       "      <td>1.0</td>\n",
       "      <td>0.0</td>\n",
       "      <td>0.0</td>\n",
       "    </tr>\n",
       "    <tr>\n",
       "      <th>2</th>\n",
       "      <td>4.7</td>\n",
       "      <td>3.2</td>\n",
       "      <td>1.3</td>\n",
       "      <td>0.2</td>\n",
       "      <td>1.0</td>\n",
       "      <td>0.0</td>\n",
       "      <td>0.0</td>\n",
       "    </tr>\n",
       "    <tr>\n",
       "      <th>3</th>\n",
       "      <td>4.6</td>\n",
       "      <td>3.1</td>\n",
       "      <td>1.5</td>\n",
       "      <td>0.2</td>\n",
       "      <td>1.0</td>\n",
       "      <td>0.0</td>\n",
       "      <td>0.0</td>\n",
       "    </tr>\n",
       "    <tr>\n",
       "      <th>4</th>\n",
       "      <td>5.0</td>\n",
       "      <td>3.6</td>\n",
       "      <td>1.4</td>\n",
       "      <td>0.2</td>\n",
       "      <td>1.0</td>\n",
       "      <td>0.0</td>\n",
       "      <td>0.0</td>\n",
       "    </tr>\n",
       "    <tr>\n",
       "      <th>...</th>\n",
       "      <td>...</td>\n",
       "      <td>...</td>\n",
       "      <td>...</td>\n",
       "      <td>...</td>\n",
       "      <td>...</td>\n",
       "      <td>...</td>\n",
       "      <td>...</td>\n",
       "    </tr>\n",
       "    <tr>\n",
       "      <th>145</th>\n",
       "      <td>6.7</td>\n",
       "      <td>3.0</td>\n",
       "      <td>5.2</td>\n",
       "      <td>2.3</td>\n",
       "      <td>0.0</td>\n",
       "      <td>0.0</td>\n",
       "      <td>1.0</td>\n",
       "    </tr>\n",
       "    <tr>\n",
       "      <th>146</th>\n",
       "      <td>6.3</td>\n",
       "      <td>2.5</td>\n",
       "      <td>5.0</td>\n",
       "      <td>1.9</td>\n",
       "      <td>0.0</td>\n",
       "      <td>0.0</td>\n",
       "      <td>1.0</td>\n",
       "    </tr>\n",
       "    <tr>\n",
       "      <th>147</th>\n",
       "      <td>6.5</td>\n",
       "      <td>3.0</td>\n",
       "      <td>5.2</td>\n",
       "      <td>2.0</td>\n",
       "      <td>0.0</td>\n",
       "      <td>0.0</td>\n",
       "      <td>1.0</td>\n",
       "    </tr>\n",
       "    <tr>\n",
       "      <th>148</th>\n",
       "      <td>6.2</td>\n",
       "      <td>3.4</td>\n",
       "      <td>5.4</td>\n",
       "      <td>2.3</td>\n",
       "      <td>0.0</td>\n",
       "      <td>0.0</td>\n",
       "      <td>1.0</td>\n",
       "    </tr>\n",
       "    <tr>\n",
       "      <th>149</th>\n",
       "      <td>5.9</td>\n",
       "      <td>3.0</td>\n",
       "      <td>5.1</td>\n",
       "      <td>1.8</td>\n",
       "      <td>0.0</td>\n",
       "      <td>0.0</td>\n",
       "      <td>1.0</td>\n",
       "    </tr>\n",
       "  </tbody>\n",
       "</table>\n",
       "<p>150 rows × 7 columns</p>\n",
       "</div>\n",
       "      <button class=\"colab-df-convert\" onclick=\"convertToInteractive('df-eb9e4dcf-e359-4703-a64e-fc1274603bba')\"\n",
       "              title=\"Convert this dataframe to an interactive table.\"\n",
       "              style=\"display:none;\">\n",
       "        \n",
       "  <svg xmlns=\"http://www.w3.org/2000/svg\" height=\"24px\"viewBox=\"0 0 24 24\"\n",
       "       width=\"24px\">\n",
       "    <path d=\"M0 0h24v24H0V0z\" fill=\"none\"/>\n",
       "    <path d=\"M18.56 5.44l.94 2.06.94-2.06 2.06-.94-2.06-.94-.94-2.06-.94 2.06-2.06.94zm-11 1L8.5 8.5l.94-2.06 2.06-.94-2.06-.94L8.5 2.5l-.94 2.06-2.06.94zm10 10l.94 2.06.94-2.06 2.06-.94-2.06-.94-.94-2.06-.94 2.06-2.06.94z\"/><path d=\"M17.41 7.96l-1.37-1.37c-.4-.4-.92-.59-1.43-.59-.52 0-1.04.2-1.43.59L10.3 9.45l-7.72 7.72c-.78.78-.78 2.05 0 2.83L4 21.41c.39.39.9.59 1.41.59.51 0 1.02-.2 1.41-.59l7.78-7.78 2.81-2.81c.8-.78.8-2.07 0-2.86zM5.41 20L4 18.59l7.72-7.72 1.47 1.35L5.41 20z\"/>\n",
       "  </svg>\n",
       "      </button>\n",
       "      \n",
       "  <style>\n",
       "    .colab-df-container {\n",
       "      display:flex;\n",
       "      flex-wrap:wrap;\n",
       "      gap: 12px;\n",
       "    }\n",
       "\n",
       "    .colab-df-convert {\n",
       "      background-color: #E8F0FE;\n",
       "      border: none;\n",
       "      border-radius: 50%;\n",
       "      cursor: pointer;\n",
       "      display: none;\n",
       "      fill: #1967D2;\n",
       "      height: 32px;\n",
       "      padding: 0 0 0 0;\n",
       "      width: 32px;\n",
       "    }\n",
       "\n",
       "    .colab-df-convert:hover {\n",
       "      background-color: #E2EBFA;\n",
       "      box-shadow: 0px 1px 2px rgba(60, 64, 67, 0.3), 0px 1px 3px 1px rgba(60, 64, 67, 0.15);\n",
       "      fill: #174EA6;\n",
       "    }\n",
       "\n",
       "    [theme=dark] .colab-df-convert {\n",
       "      background-color: #3B4455;\n",
       "      fill: #D2E3FC;\n",
       "    }\n",
       "\n",
       "    [theme=dark] .colab-df-convert:hover {\n",
       "      background-color: #434B5C;\n",
       "      box-shadow: 0px 1px 3px 1px rgba(0, 0, 0, 0.15);\n",
       "      filter: drop-shadow(0px 1px 2px rgba(0, 0, 0, 0.3));\n",
       "      fill: #FFFFFF;\n",
       "    }\n",
       "  </style>\n",
       "\n",
       "      <script>\n",
       "        const buttonEl =\n",
       "          document.querySelector('#df-eb9e4dcf-e359-4703-a64e-fc1274603bba button.colab-df-convert');\n",
       "        buttonEl.style.display =\n",
       "          google.colab.kernel.accessAllowed ? 'block' : 'none';\n",
       "\n",
       "        async function convertToInteractive(key) {\n",
       "          const element = document.querySelector('#df-eb9e4dcf-e359-4703-a64e-fc1274603bba');\n",
       "          const dataTable =\n",
       "            await google.colab.kernel.invokeFunction('convertToInteractive',\n",
       "                                                     [key], {});\n",
       "          if (!dataTable) return;\n",
       "\n",
       "          const docLinkHtml = 'Like what you see? Visit the ' +\n",
       "            '<a target=\"_blank\" href=https://colab.research.google.com/notebooks/data_table.ipynb>data table notebook</a>'\n",
       "            + ' to learn more about interactive tables.';\n",
       "          element.innerHTML = '';\n",
       "          dataTable['output_type'] = 'display_data';\n",
       "          await google.colab.output.renderOutput(dataTable, element);\n",
       "          const docLink = document.createElement('div');\n",
       "          docLink.innerHTML = docLinkHtml;\n",
       "          element.appendChild(docLink);\n",
       "        }\n",
       "      </script>\n",
       "    </div>\n",
       "  </div>\n",
       "  "
      ],
      "text/plain": [
       "     sepal length (cm)  sepal width (cm)  petal length (cm)  petal width (cm)  \\\n",
       "0                  5.1               3.5                1.4               0.2   \n",
       "1                  4.9               3.0                1.4               0.2   \n",
       "2                  4.7               3.2                1.3               0.2   \n",
       "3                  4.6               3.1                1.5               0.2   \n",
       "4                  5.0               3.6                1.4               0.2   \n",
       "..                 ...               ...                ...               ...   \n",
       "145                6.7               3.0                5.2               2.3   \n",
       "146                6.3               2.5                5.0               1.9   \n",
       "147                6.5               3.0                5.2               2.0   \n",
       "148                6.2               3.4                5.4               2.3   \n",
       "149                5.9               3.0                5.1               1.8   \n",
       "\n",
       "     setosa  versicolor  virginica  \n",
       "0       1.0         0.0        0.0  \n",
       "1       1.0         0.0        0.0  \n",
       "2       1.0         0.0        0.0  \n",
       "3       1.0         0.0        0.0  \n",
       "4       1.0         0.0        0.0  \n",
       "..      ...         ...        ...  \n",
       "145     0.0         0.0        1.0  \n",
       "146     0.0         0.0        1.0  \n",
       "147     0.0         0.0        1.0  \n",
       "148     0.0         0.0        1.0  \n",
       "149     0.0         0.0        1.0  \n",
       "\n",
       "[150 rows x 7 columns]"
      ]
     },
     "execution_count": 115,
     "metadata": {},
     "output_type": "execute_result"
    }
   ],
   "source": [
    "df[iris.target_names] = y\n",
    "df.head(150)"
   ]
  },
  {
   "cell_type": "markdown",
   "metadata": {
    "id": "Ol13Gm44Kzam"
   },
   "source": [
    "**Question.** Donner une petite explication sur la différence entre l'ancien DatFrame et celui-ci."
   ]
  },
  {
   "cell_type": "markdown",
   "metadata": {
    "id": "vABTwwuyRWXD"
   },
   "source": [
    "### le nouveau dataframe contient plus de colonne que le premier dataframe. Ces colonnes supplémentaires sont au nombre de 3, et représentent les classes de la variable espèce."
   ]
  },
  {
   "cell_type": "markdown",
   "metadata": {
    "id": "tAIpskm3Kzan"
   },
   "source": [
    "**Question.** Extraire les données x (samples) et y (classes) à partir des données iris, en les convertant en Numpy pour faire la classification (En utilisant toujours Pandas)"
   ]
  },
  {
   "cell_type": "code",
   "execution_count": 116,
   "metadata": {
    "id": "OFZa3IDzKzan"
   },
   "outputs": [],
   "source": [
    "X = df[df.columns[0:4]]\n",
    "X = X.to_numpy()\n",
    "\n",
    "Y = df[df.columns[4:]]\n",
    "Y = Y.to_numpy()"
   ]
  },
  {
   "cell_type": "code",
   "execution_count": 117,
   "metadata": {
    "colab": {
     "base_uri": "https://localhost:8080/"
    },
    "id": "-CWTAwW2VH0K",
    "outputId": "0daf9079-c49f-458b-b670-71396d943b62"
   },
   "outputs": [
    {
     "name": "stdout",
     "output_type": "stream",
     "text": [
      "première observation de X : [5.1 3.5 1.4 0.2]\n",
      "dimensions de X : (150, 4)\n"
     ]
    }
   ],
   "source": [
    "print(\"première observation de X :\",X[0])\n",
    "print(\"dimensions de X :\", X.shape)"
   ]
  },
  {
   "cell_type": "code",
   "execution_count": 118,
   "metadata": {
    "colab": {
     "base_uri": "https://localhost:8080/"
    },
    "id": "nPFKE5IpVTCs",
    "outputId": "86be9977-a81d-471f-c170-fc07a3897455"
   },
   "outputs": [
    {
     "name": "stdout",
     "output_type": "stream",
     "text": [
      "première observation de Y : [1. 0. 0.]\n",
      "dimensions de Y : (150, 3)\n"
     ]
    }
   ],
   "source": [
    "print(\"première observation de Y :\", Y[0])\n",
    "print(\"dimensions de Y :\", Y.shape)"
   ]
  },
  {
   "cell_type": "markdown",
   "metadata": {
    "id": "1CVj26iJKzao"
   },
   "source": [
    "**Question.** Découper les données en ensembles de training et test (20 % pour le test)."
   ]
  },
  {
   "cell_type": "code",
   "execution_count": 119,
   "metadata": {
    "id": "vMLWZ7GSKzao"
   },
   "outputs": [],
   "source": [
    "from sklearn.model_selection import train_test_split\n",
    "X_train_bis, X_test_bis, y_train_bis, y_test_bis = train_test_split(X, Y, test_size=0.2, shuffle=True)"
   ]
  },
  {
   "cell_type": "markdown",
   "metadata": {
    "id": "mzMa8HtDKzao"
   },
   "source": [
    "**Question.** Construire un modèle du réseau de neurones séquentiel: 3 couches cachées (64, 128, 64) et les fonctions d'activation sont relu() et softmax()."
   ]
  },
  {
   "cell_type": "code",
   "execution_count": 120,
   "metadata": {
    "id": "rrIXYPXuKzap"
   },
   "outputs": [],
   "source": [
    "#réseau complet\n",
    "entree= Input(shape=(4,))\n",
    "cachee_1= Dense(64, activation='relu')(entree)\n",
    "cachee_2 = Dense(128, activation='relu')(cachee_1)\n",
    "cachee_3 = Dense(64, activation='relu')(cachee_2)\n",
    "sortie = Dense(3, activation=\"softmax\")(cachee_3)\n",
    "m = Model(entree, sortie)\n",
    "\n"
   ]
  },
  {
   "cell_type": "markdown",
   "metadata": {
    "id": "PnKNveMyKzap"
   },
   "source": [
    "**Question.** Visualiser l''arborescence du modèle construit. Commenter!"
   ]
  },
  {
   "cell_type": "code",
   "execution_count": 121,
   "metadata": {
    "colab": {
     "base_uri": "https://localhost:8080/",
     "height": 620
    },
    "id": "AEahNkVAKzaq",
    "outputId": "15008a04-07a8-4dae-be5b-64d8aa3c2abf"
   },
   "outputs": [
    {
     "data": {
      "image/svg+xml": [
       "<svg xmlns=\"http://www.w3.org/2000/svg\" xmlns:xlink=\"http://www.w3.org/1999/xlink\" width=\"200pt\" height=\"449pt\" viewBox=\"0.00 0.00 150.00 337.00\">\n",
       "<g id=\"graph0\" class=\"graph\" transform=\"scale(0.75 0.75) rotate(0) translate(4 333)\">\n",
       "<title>G</title>\n",
       "<polygon fill=\"white\" stroke=\"transparent\" points=\"-4,4 -4,-333 146,-333 146,4 -4,4\"/>\n",
       "<!-- 139731361333696 -->\n",
       "<g id=\"node1\" class=\"node\">\n",
       "<title>139731361333696</title>\n",
       "<polygon fill=\"none\" stroke=\"black\" points=\"0,-292.5 0,-328.5 142,-328.5 142,-292.5 0,-292.5\"/>\n",
       "<text text-anchor=\"middle\" x=\"32.5\" y=\"-306.8\" font-family=\"Times,serif\" font-size=\"14.00\">input_33</text>\n",
       "<polyline fill=\"none\" stroke=\"black\" points=\"65,-292.5 65,-328.5 \"/>\n",
       "<text text-anchor=\"middle\" x=\"103.5\" y=\"-306.8\" font-family=\"Times,serif\" font-size=\"14.00\">InputLayer</text>\n",
       "</g>\n",
       "<!-- 139731361333600 -->\n",
       "<g id=\"node2\" class=\"node\">\n",
       "<title>139731361333600</title>\n",
       "<polygon fill=\"none\" stroke=\"black\" points=\"9,-219.5 9,-255.5 133,-255.5 133,-219.5 9,-219.5\"/>\n",
       "<text text-anchor=\"middle\" x=\"46\" y=\"-233.8\" font-family=\"Times,serif\" font-size=\"14.00\">dense_109</text>\n",
       "<polyline fill=\"none\" stroke=\"black\" points=\"83,-219.5 83,-255.5 \"/>\n",
       "<text text-anchor=\"middle\" x=\"108\" y=\"-233.8\" font-family=\"Times,serif\" font-size=\"14.00\">Dense</text>\n",
       "</g>\n",
       "<!-- 139731361333696&#45;&gt;139731361333600 -->\n",
       "<g id=\"edge1\" class=\"edge\">\n",
       "<title>139731361333696-&gt;139731361333600</title>\n",
       "<path fill=\"none\" stroke=\"black\" d=\"M71,-292.31C71,-284.29 71,-274.55 71,-265.57\"/>\n",
       "<polygon fill=\"black\" stroke=\"black\" points=\"74.5,-265.53 71,-255.53 67.5,-265.53 74.5,-265.53\"/>\n",
       "</g>\n",
       "<!-- 139731361334560 -->\n",
       "<g id=\"node3\" class=\"node\">\n",
       "<title>139731361334560</title>\n",
       "<polygon fill=\"none\" stroke=\"black\" points=\"9,-146.5 9,-182.5 133,-182.5 133,-146.5 9,-146.5\"/>\n",
       "<text text-anchor=\"middle\" x=\"46\" y=\"-160.8\" font-family=\"Times,serif\" font-size=\"14.00\">dense_110</text>\n",
       "<polyline fill=\"none\" stroke=\"black\" points=\"83,-146.5 83,-182.5 \"/>\n",
       "<text text-anchor=\"middle\" x=\"108\" y=\"-160.8\" font-family=\"Times,serif\" font-size=\"14.00\">Dense</text>\n",
       "</g>\n",
       "<!-- 139731361333600&#45;&gt;139731361334560 -->\n",
       "<g id=\"edge2\" class=\"edge\">\n",
       "<title>139731361333600-&gt;139731361334560</title>\n",
       "<path fill=\"none\" stroke=\"black\" d=\"M71,-219.31C71,-211.29 71,-201.55 71,-192.57\"/>\n",
       "<polygon fill=\"black\" stroke=\"black\" points=\"74.5,-192.53 71,-182.53 67.5,-192.53 74.5,-192.53\"/>\n",
       "</g>\n",
       "<!-- 139731331067088 -->\n",
       "<g id=\"node4\" class=\"node\">\n",
       "<title>139731331067088</title>\n",
       "<polygon fill=\"none\" stroke=\"black\" points=\"9,-73.5 9,-109.5 133,-109.5 133,-73.5 9,-73.5\"/>\n",
       "<text text-anchor=\"middle\" x=\"46\" y=\"-87.8\" font-family=\"Times,serif\" font-size=\"14.00\">dense_111</text>\n",
       "<polyline fill=\"none\" stroke=\"black\" points=\"83,-73.5 83,-109.5 \"/>\n",
       "<text text-anchor=\"middle\" x=\"108\" y=\"-87.8\" font-family=\"Times,serif\" font-size=\"14.00\">Dense</text>\n",
       "</g>\n",
       "<!-- 139731361334560&#45;&gt;139731331067088 -->\n",
       "<g id=\"edge3\" class=\"edge\">\n",
       "<title>139731361334560-&gt;139731331067088</title>\n",
       "<path fill=\"none\" stroke=\"black\" d=\"M71,-146.31C71,-138.29 71,-128.55 71,-119.57\"/>\n",
       "<polygon fill=\"black\" stroke=\"black\" points=\"74.5,-119.53 71,-109.53 67.5,-119.53 74.5,-119.53\"/>\n",
       "</g>\n",
       "<!-- 139731361336720 -->\n",
       "<g id=\"node5\" class=\"node\">\n",
       "<title>139731361336720</title>\n",
       "<polygon fill=\"none\" stroke=\"black\" points=\"9,-0.5 9,-36.5 133,-36.5 133,-0.5 9,-0.5\"/>\n",
       "<text text-anchor=\"middle\" x=\"46\" y=\"-14.8\" font-family=\"Times,serif\" font-size=\"14.00\">dense_112</text>\n",
       "<polyline fill=\"none\" stroke=\"black\" points=\"83,-0.5 83,-36.5 \"/>\n",
       "<text text-anchor=\"middle\" x=\"108\" y=\"-14.8\" font-family=\"Times,serif\" font-size=\"14.00\">Dense</text>\n",
       "</g>\n",
       "<!-- 139731331067088&#45;&gt;139731361336720 -->\n",
       "<g id=\"edge4\" class=\"edge\">\n",
       "<title>139731331067088-&gt;139731361336720</title>\n",
       "<path fill=\"none\" stroke=\"black\" d=\"M71,-73.31C71,-65.29 71,-55.55 71,-46.57\"/>\n",
       "<polygon fill=\"black\" stroke=\"black\" points=\"74.5,-46.53 71,-36.53 67.5,-46.53 74.5,-46.53\"/>\n",
       "</g>\n",
       "</g>\n",
       "</svg>"
      ],
      "text/plain": [
       "<IPython.core.display.SVG object>"
      ]
     },
     "execution_count": 121,
     "metadata": {},
     "output_type": "execute_result"
    }
   ],
   "source": [
    "import pydot\n",
    "from IPython.display import SVG\n",
    "from keras.utils.vis_utils import model_to_dot\n",
    "\n",
    "SVG(model_to_dot(m).create(prog='dot', format='svg'))"
   ]
  },
  {
   "cell_type": "markdown",
   "metadata": {
    "id": "PFaibrQSKzaq"
   },
   "source": [
    "**Question.** Compiler et entraîner votre modèle avec le nombre d'epochs=15, l'ensemble de validation=25% et  batch size=40. Vous pouvez utiliser Adam comme optimiseur. A vous de choisir une fonction et métrique de perte adéaquates  pour ce type de problème. Réflichissez!"
   ]
  },
  {
   "cell_type": "code",
   "execution_count": 122,
   "metadata": {
    "id": "b0znwhBD4bVi"
   },
   "outputs": [],
   "source": [
    "# Normalisons les données\n",
    "mean = X_train_bis.mean(axis=0)\n",
    "std = X_train_bis.std(axis=0)\n",
    "\n",
    "X_train_bis = X_train_bis - mean\n",
    "X_train_bis = X_train_bis / std\n",
    "\n",
    "X_test_bis = X_test_bis - mean\n",
    "X_test_bis = X_test_bis / std"
   ]
  },
  {
   "cell_type": "code",
   "execution_count": 123,
   "metadata": {
    "colab": {
     "base_uri": "https://localhost:8080/"
    },
    "id": "qirr-vv2Kzaq",
    "outputId": "efdb1911-5e3e-4672-f884-059dc8f1f7cb"
   },
   "outputs": [
    {
     "name": "stdout",
     "output_type": "stream",
     "text": [
      "Epoch 1/15\n",
      "3/3 [==============================] - 1s 111ms/step - loss: 1.0934 - acc: 0.3889 - val_loss: 0.9614 - val_acc: 0.8333\n",
      "Epoch 2/15\n",
      "3/3 [==============================] - 0s 19ms/step - loss: 0.9514 - acc: 0.8111 - val_loss: 0.8431 - val_acc: 0.9000\n",
      "Epoch 3/15\n",
      "3/3 [==============================] - 0s 21ms/step - loss: 0.8413 - acc: 0.8111 - val_loss: 0.7392 - val_acc: 0.9000\n",
      "Epoch 4/15\n",
      "3/3 [==============================] - 0s 19ms/step - loss: 0.7418 - acc: 0.8222 - val_loss: 0.6451 - val_acc: 0.9000\n",
      "Epoch 5/15\n",
      "3/3 [==============================] - 0s 22ms/step - loss: 0.6541 - acc: 0.8222 - val_loss: 0.5636 - val_acc: 0.9000\n",
      "Epoch 6/15\n",
      "3/3 [==============================] - 0s 19ms/step - loss: 0.5798 - acc: 0.8222 - val_loss: 0.4924 - val_acc: 0.9333\n",
      "Epoch 7/15\n",
      "3/3 [==============================] - 0s 19ms/step - loss: 0.5168 - acc: 0.8222 - val_loss: 0.4316 - val_acc: 0.9333\n",
      "Epoch 8/15\n",
      "3/3 [==============================] - 0s 23ms/step - loss: 0.4642 - acc: 0.8222 - val_loss: 0.3806 - val_acc: 0.9333\n",
      "Epoch 9/15\n",
      "3/3 [==============================] - 0s 19ms/step - loss: 0.4225 - acc: 0.8222 - val_loss: 0.3423 - val_acc: 0.9333\n",
      "Epoch 10/15\n",
      "3/3 [==============================] - 0s 22ms/step - loss: 0.3874 - acc: 0.8222 - val_loss: 0.3128 - val_acc: 0.9333\n",
      "Epoch 11/15\n",
      "3/3 [==============================] - 0s 19ms/step - loss: 0.3639 - acc: 0.8222 - val_loss: 0.2900 - val_acc: 0.9333\n",
      "Epoch 12/15\n",
      "3/3 [==============================] - 0s 20ms/step - loss: 0.3424 - acc: 0.8556 - val_loss: 0.2729 - val_acc: 0.9333\n",
      "Epoch 13/15\n",
      "3/3 [==============================] - 0s 19ms/step - loss: 0.3234 - acc: 0.8556 - val_loss: 0.2581 - val_acc: 0.9333\n",
      "Epoch 14/15\n",
      "3/3 [==============================] - 0s 19ms/step - loss: 0.3096 - acc: 0.8556 - val_loss: 0.2436 - val_acc: 0.9333\n",
      "Epoch 15/15\n",
      "3/3 [==============================] - 0s 18ms/step - loss: 0.2948 - acc: 0.8778 - val_loss: 0.2275 - val_acc: 0.9333\n"
     ]
    }
   ],
   "source": [
    "#apprentissage\n",
    "m.compile(loss='categorical_crossentropy',\n",
    "              optimizer='adam',\n",
    "              metrics=['acc'])\n",
    "h3 = m.fit(X_train_bis, y_train_bis, epochs=15, batch_size=40, verbose =1, validation_split=0.25)"
   ]
  },
  {
   "cell_type": "markdown",
   "metadata": {
    "id": "FTFNyK5YKzar"
   },
   "source": [
    "**Question.** Tracez les courbes d'apprentissage (train_loss et val_loss)"
   ]
  },
  {
   "cell_type": "code",
   "execution_count": 124,
   "metadata": {
    "colab": {
     "base_uri": "https://localhost:8080/",
     "height": 573
    },
    "id": "p2jX-uxDKzar",
    "outputId": "506c023f-ac95-4109-865a-b2627f0e5391"
   },
   "outputs": [
    {
     "data": {
      "image/png": "[encoded data removed]",
      "text/plain": [
       "<Figure size 432x288 with 1 Axes>"
      ]
     },
     "metadata": {
      "needs_background": "light"
     },
     "output_type": "display_data"
    },
    {
     "data": {
      "image/png": "[encoded data removed]",
      "text/plain": [
       "<Figure size 432x288 with 1 Axes>"
      ]
     },
     "metadata": {
      "needs_background": "light"
     },
     "output_type": "display_data"
    }
   ],
   "source": [
    "affiche_evolution_apprentissage(h3)"
   ]
  },
  {
   "cell_type": "markdown",
   "metadata": {
    "id": "e1e3b5-RKzas"
   },
   "source": [
    "**Question.** Interpréter le résultat obtenu. Que constatez-vous ? "
   ]
  },
  {
   "cell_type": "markdown",
   "metadata": {
    "id": "VMhi9Dwca3V4"
   },
   "source": [
    "### Si l'accuracy sur les données d'apprentissage est moins bon que sur les données de test. On est dans une situation du sous-apprentissage. Si c'est l'inverse, on est dans une situation de sur-apprentissage. Attention, les graphiques dépendent du code d'entrainement précédent (model.fit(...)) car on aura pas les mêmes ensembles d'apprentissage et les mêmes ensembles de test à cause du paramètre validation_split"
   ]
  },
  {
   "cell_type": "markdown",
   "metadata": {
    "id": "uejFxuDAKzat"
   },
   "source": [
    "**Question.** Après avoir construit le modèle, utiliser la commande  EarlyStopping() sans paramètres sous Keras pour éviter le problème d'Overfitting. Re-entraîner le modèle."
   ]
  },
  {
   "cell_type": "code",
   "execution_count": 125,
   "metadata": {
    "colab": {
     "base_uri": "https://localhost:8080/"
    },
    "id": "IS_jNG-HKzat",
    "outputId": "401dab03-2b9e-4b18-b659-e114ecf61e39"
   },
   "outputs": [
    {
     "name": "stdout",
     "output_type": "stream",
     "text": [
      "Epoch 1/15\n",
      "3/3 [==============================] - 0s 39ms/step - loss: 0.2810 - acc: 0.8667 - val_loss: 0.2176 - val_acc: 0.9000\n",
      "Epoch 2/15\n",
      "3/3 [==============================] - 0s 20ms/step - loss: 0.2696 - acc: 0.8667 - val_loss: 0.2130 - val_acc: 0.9000\n"
     ]
    }
   ],
   "source": [
    "from keras.callbacks import EarlyStopping\n",
    "es = EarlyStopping()\n",
    "h3_es= m.fit(X_train_bis, y_train_bis,\n",
    "                    epochs=15,\n",
    "                    batch_size=40,\n",
    "                    verbose =1,\n",
    "                    validation_split=0.25,\n",
    "                    callbacks=[es])"
   ]
  },
  {
   "cell_type": "markdown",
   "metadata": {
    "id": "KwN6mkPKKzat"
   },
   "source": [
    "**Question.**  Interpréter le résulat"
   ]
  },
  {
   "cell_type": "markdown",
   "metadata": {
    "id": "SEKe6-hidPdC"
   },
   "source": [
    "### on constate que l'entrainement s'est interrompu une fois que la métrique (ici accuracy) a cessé de s'améliorer pendant un nombre fixe d'époques, c'est-à-dire que EarlyStopping a permis d'interrompre l'entrainement dès que le modèle à commencer à sur-ajuster, évitant ainsi d'avoir à relancer l'entrainement du modèle avec un plus petit nombre d'époques."
   ]
  },
  {
   "cell_type": "markdown",
   "metadata": {
    "id": "QiCOXCMgKzau"
   },
   "source": [
    "**Question.** Re-tracez les courbes d'apprentissage (train_loss et val_loss)"
   ]
  },
  {
   "cell_type": "code",
   "execution_count": 126,
   "metadata": {
    "colab": {
     "base_uri": "https://localhost:8080/",
     "height": 573
    },
    "id": "FePXBI8vKzau",
    "outputId": "91716bd1-7a54-44e6-ebc5-a5d530ef5d3d"
   },
   "outputs": [
    {
     "data": {
      "image/png": "[encoded data removed]",
      "text/plain": [
       "<Figure size 432x288 with 1 Axes>"
      ]
     },
     "metadata": {
      "needs_background": "light"
     },
     "output_type": "display_data"
    },
    {
     "data": {
      "image/png": "[encoded data removed]",
      "text/plain": [
       "<Figure size 432x288 with 1 Axes>"
      ]
     },
     "metadata": {
      "needs_background": "light"
     },
     "output_type": "display_data"
    }
   ],
   "source": [
    "affiche_evolution_apprentissage(h3_es)"
   ]
  },
  {
   "cell_type": "markdown",
   "metadata": {
    "id": "GU8MHpp8Kzav"
   },
   "source": [
    "**Question.**  Interpréter le résulat des courbes d'apprentissage obtenus"
   ]
  },
  {
   "cell_type": "markdown",
   "metadata": {
    "id": "0PtE4godKzav"
   },
   "source": [
    "### En abscisse, on a le nombre d'époques quand EarlyStopping a interrompu l'entrainement. Ensuite, les valeurs d'accuracy en données d'apprentissage et en données de test pour chaque époque sont représentées. De même, pour les valeurs de la fonction de perte."
   ]
  },
  {
   "cell_type": "markdown",
   "metadata": {
    "id": "U8TMlE09Kzav"
   },
   "source": [
    "**Question.** Après avoir essayer EarlyStopping() sans paramètres, personaliser maintenant cette commande en fixant les les paramètres min_delta=$1e-3$, patience=8 et mode='max'.\n"
   ]
  },
  {
   "cell_type": "code",
   "execution_count": 127,
   "metadata": {
    "id": "rmxelS1lKzaw"
   },
   "outputs": [],
   "source": [
    "from keras.callbacks import EarlyStopping\n",
    "es = EarlyStopping(min_delta=0.001, patience=8, verbose=1, mode='max')"
   ]
  },
  {
   "cell_type": "markdown",
   "metadata": {
    "id": "R4fp7flgKzaw"
   },
   "source": [
    "**Question.** Expliquer les paramètres suivants: min_delta, patience et verbose."
   ]
  },
  {
   "cell_type": "markdown",
   "metadata": {
    "id": "apngb215kaUE"
   },
   "source": [
    "### min_delta : si la différence entre deux valeurs de la métrique calculée est inférieure à min_delta, alors on considère que la métrique ne s'est pas améliorée.\n",
    "\n",
    "### patience : nombre d'époques au delà duquel l'entrainement peut s'interrompre quand la métrique a cessé de s'améliorer\n",
    "\n",
    "### verbose : c'est soit 0 (n'affiche pas d'information pendant l'entrainement) , soit 1 (affiche les informations pendant l'entrainement)"
   ]
  },
  {
   "cell_type": "markdown",
   "metadata": {
    "id": "6z8oU0jwKzax"
   },
   "source": [
    "**Question.** Entraîner votre modèle en tenant en compte l'instruction d'EarlySopping personalisé."
   ]
  },
  {
   "cell_type": "code",
   "execution_count": 128,
   "metadata": {
    "colab": {
     "base_uri": "https://localhost:8080/"
    },
    "id": "cgOXXftsKzax",
    "outputId": "fd05a32d-e378-4c1c-cc14-31828ac23041"
   },
   "outputs": [
    {
     "name": "stdout",
     "output_type": "stream",
     "text": [
      "Epoch 1/15\n",
      "3/3 [==============================] - 0s 40ms/step - loss: 0.2732 - acc: 0.8444 - val_loss: 0.2121 - val_acc: 0.9000\n",
      "Epoch 2/15\n",
      "3/3 [==============================] - 0s 22ms/step - loss: 0.2650 - acc: 0.8444 - val_loss: 0.1990 - val_acc: 0.9000\n",
      "Epoch 3/15\n",
      "3/3 [==============================] - 0s 19ms/step - loss: 0.2489 - acc: 0.8667 - val_loss: 0.1885 - val_acc: 0.9000\n",
      "Epoch 4/15\n",
      "3/3 [==============================] - 0s 19ms/step - loss: 0.2357 - acc: 0.9111 - val_loss: 0.1832 - val_acc: 0.9333\n",
      "Epoch 5/15\n",
      "3/3 [==============================] - 0s 20ms/step - loss: 0.2270 - acc: 0.9222 - val_loss: 0.1736 - val_acc: 0.9667\n",
      "Epoch 6/15\n",
      "3/3 [==============================] - 0s 21ms/step - loss: 0.2195 - acc: 0.9111 - val_loss: 0.1599 - val_acc: 0.9667\n",
      "Epoch 7/15\n",
      "3/3 [==============================] - 0s 19ms/step - loss: 0.2093 - acc: 0.9444 - val_loss: 0.1484 - val_acc: 0.9667\n",
      "Epoch 8/15\n",
      "3/3 [==============================] - 0s 22ms/step - loss: 0.2001 - acc: 0.9333 - val_loss: 0.1396 - val_acc: 0.9667\n",
      "Epoch 9/15\n",
      "3/3 [==============================] - 0s 17ms/step - loss: 0.1933 - acc: 0.9444 - val_loss: 0.1318 - val_acc: 0.9667\n",
      "Epoch 9: early stopping\n"
     ]
    }
   ],
   "source": [
    "es = EarlyStopping(min_delta=0.001, patience=8, verbose=1, mode='max')\n",
    "h3_es= m.fit(X_train_bis, y_train_bis,\n",
    "                    epochs=15,\n",
    "                    batch_size=40,\n",
    "                    verbose = 1,\n",
    "                    validation_split=0.25,\n",
    "                    callbacks=[es])"
   ]
  },
  {
   "cell_type": "markdown",
   "metadata": {
    "id": "0Q86-L-MKzax"
   },
   "source": [
    "**Question.** Interpréter le résultat"
   ]
  },
  {
   "cell_type": "markdown",
   "metadata": {
    "id": "4Y41PDzeqEsW"
   },
   "source": [
    "### Comme verbose égal 1, on peut lire les informations. Selon les ensembles d'apprentissage, et les ensembles de validation, on n'a ou pas d'overfiting. Si on a overfitiging, le dernier époque d'entrainement correspond à l'époque au dessus duquel le model commence à sur-ajuster, et donc EarlyStopping arrête l'entrainement. "
   ]
  },
  {
   "cell_type": "markdown",
   "metadata": {
    "id": "Bh8p0BQZKzay"
   },
   "source": [
    "**Question.** Tracez les courbes d'apprentissage (train_loss et val_loss)"
   ]
  },
  {
   "cell_type": "code",
   "execution_count": 129,
   "metadata": {
    "colab": {
     "base_uri": "https://localhost:8080/",
     "height": 573
    },
    "id": "1c2E1UlQKzay",
    "outputId": "3bba4aef-cfb1-4a67-eaab-608e202d0c0d"
   },
   "outputs": [
    {
     "data": {
      "image/png": "[encoded data removed]",
      "text/plain": [
       "<Figure size 432x288 with 1 Axes>"
      ]
     },
     "metadata": {
      "needs_background": "light"
     },
     "output_type": "display_data"
    },
    {
     "data": {
      "image/png": "[encoded data removed]",
      "text/plain": [
       "<Figure size 432x288 with 1 Axes>"
      ]
     },
     "metadata": {
      "needs_background": "light"
     },
     "output_type": "display_data"
    }
   ],
   "source": [
    "affiche_evolution_apprentissage(h3_es)"
   ]
  },
  {
   "cell_type": "markdown",
   "metadata": {
    "id": "v-fyRkuAKzay"
   },
   "source": [
    "**Question.** Que constatez-vous ?"
   ]
  },
  {
   "cell_type": "markdown",
   "metadata": {
    "id": "dw5WE20Jrzee"
   },
   "source": [
    "### En abscisse, on a le nombre d'époques quand EarlyStopping a interrompu l'entrainement. Ensuite, les valeurs d'accuracy en données d'apprentissage et en données de test pour chaque époque sont représentées. De même, pour les valeurs de la fonction de perte."
   ]
  },
  {
   "cell_type": "markdown",
   "metadata": {
    "id": "5ldcfka2Kzaz"
   },
   "source": [
    "## Régression avec EarlyStopping"
   ]
  },
  {
   "cell_type": "markdown",
   "metadata": {
    "id": "NlUs2WBKKzaz"
   },
   "source": [
    "Après avoir apprendre un modèle de classification, maintenant on s'intéresse à un problème de régression. \n",
    "\n",
    "En utilisant Pandas, nous allons charger le fichier CSV des données auto à partir de cette URL: \"https://data.heatonresearch.com/data/t81-558/auto-mpg.csv\". Dans la même instruction, nous vérifiions s'il y a des valeurs manquantes comme 'NA' ou '?' et les stocker dans une variable nommée na_values."
   ]
  },
  {
   "cell_type": "code",
   "execution_count": 130,
   "metadata": {
    "id": "Fvw3nyReKza0"
   },
   "outputs": [],
   "source": [
    "from tensorflow.keras.models import Sequential\n",
    "from tensorflow.keras.layers import Dense, Activation\n",
    "import pandas as pd\n",
    "import numpy as np\n",
    "from sklearn import metrics\n",
    "\n",
    "df = pd.read_csv(\n",
    "    \"https://data.heatonresearch.com/data/t81-558/auto-mpg.csv\", \n",
    "    na_values=['NA', '?'])\n",
    "\n",
    "cars = df['name']\n",
    "\n",
    "# Gérer les valeurs manquantes\n",
    "df['horsepower'] = df['horsepower'].fillna(df['horsepower'].median())"
   ]
  },
  {
   "cell_type": "code",
   "execution_count": 131,
   "metadata": {
    "colab": {
     "base_uri": "https://localhost:8080/",
     "height": 206
    },
    "id": "8YuBI4vAsZ4x",
    "outputId": "8c6c4a52-c69b-4ea1-ce24-d3965135f9d7"
   },
   "outputs": [
    {
     "data": {
      "text/html": [
       "\n",
       "  <div id=\"df-012b33d5-6eb5-401e-80d6-35fed2c2867e\">\n",
       "    <div class=\"colab-df-container\">\n",
       "      <div>\n",
       "<style scoped>\n",
       "    .dataframe tbody tr th:only-of-type {\n",
       "        vertical-align: middle;\n",
       "    }\n",
       "\n",
       "    .dataframe tbody tr th {\n",
       "        vertical-align: top;\n",
       "    }\n",
       "\n",
       "    .dataframe thead th {\n",
       "        text-align: right;\n",
       "    }\n",
       "</style>\n",
       "<table border=\"1\" class=\"dataframe\">\n",
       "  <thead>\n",
       "    <tr style=\"text-align: right;\">\n",
       "      <th></th>\n",
       "      <th>mpg</th>\n",
       "      <th>cylinders</th>\n",
       "      <th>displacement</th>\n",
       "      <th>horsepower</th>\n",
       "      <th>weight</th>\n",
       "      <th>acceleration</th>\n",
       "      <th>year</th>\n",
       "      <th>origin</th>\n",
       "      <th>name</th>\n",
       "    </tr>\n",
       "  </thead>\n",
       "  <tbody>\n",
       "    <tr>\n",
       "      <th>0</th>\n",
       "      <td>18.0</td>\n",
       "      <td>8</td>\n",
       "      <td>307.0</td>\n",
       "      <td>130.0</td>\n",
       "      <td>3504</td>\n",
       "      <td>12.0</td>\n",
       "      <td>70</td>\n",
       "      <td>1</td>\n",
       "      <td>chevrolet chevelle malibu</td>\n",
       "    </tr>\n",
       "    <tr>\n",
       "      <th>1</th>\n",
       "      <td>15.0</td>\n",
       "      <td>8</td>\n",
       "      <td>350.0</td>\n",
       "      <td>165.0</td>\n",
       "      <td>3693</td>\n",
       "      <td>11.5</td>\n",
       "      <td>70</td>\n",
       "      <td>1</td>\n",
       "      <td>buick skylark 320</td>\n",
       "    </tr>\n",
       "    <tr>\n",
       "      <th>2</th>\n",
       "      <td>18.0</td>\n",
       "      <td>8</td>\n",
       "      <td>318.0</td>\n",
       "      <td>150.0</td>\n",
       "      <td>3436</td>\n",
       "      <td>11.0</td>\n",
       "      <td>70</td>\n",
       "      <td>1</td>\n",
       "      <td>plymouth satellite</td>\n",
       "    </tr>\n",
       "    <tr>\n",
       "      <th>3</th>\n",
       "      <td>16.0</td>\n",
       "      <td>8</td>\n",
       "      <td>304.0</td>\n",
       "      <td>150.0</td>\n",
       "      <td>3433</td>\n",
       "      <td>12.0</td>\n",
       "      <td>70</td>\n",
       "      <td>1</td>\n",
       "      <td>amc rebel sst</td>\n",
       "    </tr>\n",
       "    <tr>\n",
       "      <th>4</th>\n",
       "      <td>17.0</td>\n",
       "      <td>8</td>\n",
       "      <td>302.0</td>\n",
       "      <td>140.0</td>\n",
       "      <td>3449</td>\n",
       "      <td>10.5</td>\n",
       "      <td>70</td>\n",
       "      <td>1</td>\n",
       "      <td>ford torino</td>\n",
       "    </tr>\n",
       "  </tbody>\n",
       "</table>\n",
       "</div>\n",
       "      <button class=\"colab-df-convert\" onclick=\"convertToInteractive('df-012b33d5-6eb5-401e-80d6-35fed2c2867e')\"\n",
       "              title=\"Convert this dataframe to an interactive table.\"\n",
       "              style=\"display:none;\">\n",
       "        \n",
       "  <svg xmlns=\"http://www.w3.org/2000/svg\" height=\"24px\"viewBox=\"0 0 24 24\"\n",
       "       width=\"24px\">\n",
       "    <path d=\"M0 0h24v24H0V0z\" fill=\"none\"/>\n",
       "    <path d=\"M18.56 5.44l.94 2.06.94-2.06 2.06-.94-2.06-.94-.94-2.06-.94 2.06-2.06.94zm-11 1L8.5 8.5l.94-2.06 2.06-.94-2.06-.94L8.5 2.5l-.94 2.06-2.06.94zm10 10l.94 2.06.94-2.06 2.06-.94-2.06-.94-.94-2.06-.94 2.06-2.06.94z\"/><path d=\"M17.41 7.96l-1.37-1.37c-.4-.4-.92-.59-1.43-.59-.52 0-1.04.2-1.43.59L10.3 9.45l-7.72 7.72c-.78.78-.78 2.05 0 2.83L4 21.41c.39.39.9.59 1.41.59.51 0 1.02-.2 1.41-.59l7.78-7.78 2.81-2.81c.8-.78.8-2.07 0-2.86zM5.41 20L4 18.59l7.72-7.72 1.47 1.35L5.41 20z\"/>\n",
       "  </svg>\n",
       "      </button>\n",
       "      \n",
       "  <style>\n",
       "    .colab-df-container {\n",
       "      display:flex;\n",
       "      flex-wrap:wrap;\n",
       "      gap: 12px;\n",
       "    }\n",
       "\n",
       "    .colab-df-convert {\n",
       "      background-color: #E8F0FE;\n",
       "      border: none;\n",
       "      border-radius: 50%;\n",
       "      cursor: pointer;\n",
       "      display: none;\n",
       "      fill: #1967D2;\n",
       "      height: 32px;\n",
       "      padding: 0 0 0 0;\n",
       "      width: 32px;\n",
       "    }\n",
       "\n",
       "    .colab-df-convert:hover {\n",
       "      background-color: #E2EBFA;\n",
       "      box-shadow: 0px 1px 2px rgba(60, 64, 67, 0.3), 0px 1px 3px 1px rgba(60, 64, 67, 0.15);\n",
       "      fill: #174EA6;\n",
       "    }\n",
       "\n",
       "    [theme=dark] .colab-df-convert {\n",
       "      background-color: #3B4455;\n",
       "      fill: #D2E3FC;\n",
       "    }\n",
       "\n",
       "    [theme=dark] .colab-df-convert:hover {\n",
       "      background-color: #434B5C;\n",
       "      box-shadow: 0px 1px 3px 1px rgba(0, 0, 0, 0.15);\n",
       "      filter: drop-shadow(0px 1px 2px rgba(0, 0, 0, 0.3));\n",
       "      fill: #FFFFFF;\n",
       "    }\n",
       "  </style>\n",
       "\n",
       "      <script>\n",
       "        const buttonEl =\n",
       "          document.querySelector('#df-012b33d5-6eb5-401e-80d6-35fed2c2867e button.colab-df-convert');\n",
       "        buttonEl.style.display =\n",
       "          google.colab.kernel.accessAllowed ? 'block' : 'none';\n",
       "\n",
       "        async function convertToInteractive(key) {\n",
       "          const element = document.querySelector('#df-012b33d5-6eb5-401e-80d6-35fed2c2867e');\n",
       "          const dataTable =\n",
       "            await google.colab.kernel.invokeFunction('convertToInteractive',\n",
       "                                                     [key], {});\n",
       "          if (!dataTable) return;\n",
       "\n",
       "          const docLinkHtml = 'Like what you see? Visit the ' +\n",
       "            '<a target=\"_blank\" href=https://colab.research.google.com/notebooks/data_table.ipynb>data table notebook</a>'\n",
       "            + ' to learn more about interactive tables.';\n",
       "          element.innerHTML = '';\n",
       "          dataTable['output_type'] = 'display_data';\n",
       "          await google.colab.output.renderOutput(dataTable, element);\n",
       "          const docLink = document.createElement('div');\n",
       "          docLink.innerHTML = docLinkHtml;\n",
       "          element.appendChild(docLink);\n",
       "        }\n",
       "      </script>\n",
       "    </div>\n",
       "  </div>\n",
       "  "
      ],
      "text/plain": [
       "    mpg  cylinders  displacement  horsepower  weight  acceleration  year  \\\n",
       "0  18.0          8         307.0       130.0    3504          12.0    70   \n",
       "1  15.0          8         350.0       165.0    3693          11.5    70   \n",
       "2  18.0          8         318.0       150.0    3436          11.0    70   \n",
       "3  16.0          8         304.0       150.0    3433          12.0    70   \n",
       "4  17.0          8         302.0       140.0    3449          10.5    70   \n",
       "\n",
       "   origin                       name  \n",
       "0       1  chevrolet chevelle malibu  \n",
       "1       1          buick skylark 320  \n",
       "2       1         plymouth satellite  \n",
       "3       1              amc rebel sst  \n",
       "4       1                ford torino  "
      ]
     },
     "execution_count": 131,
     "metadata": {},
     "output_type": "execute_result"
    }
   ],
   "source": [
    "df.head()"
   ]
  },
  {
   "cell_type": "markdown",
   "metadata": {
    "id": "II9a_E8gKza2"
   },
   "source": [
    "**Question.** Convertir les données en Numpy pour faire la régression (données x et y)"
   ]
  },
  {
   "cell_type": "code",
   "execution_count": 132,
   "metadata": {
    "id": "1eLBUcSiKza2"
   },
   "outputs": [],
   "source": [
    "X = df[df.columns[1:8]] # variables cylinders jusqu'à origin\n",
    "X = X.to_numpy()\n",
    "\n",
    "Y = df[df.columns[0]] # variable mpg\n",
    "Y = Y.to_numpy()"
   ]
  },
  {
   "cell_type": "markdown",
   "metadata": {
    "id": "c37qnXcHKza3"
   },
   "source": [
    "**Question.** Découper les données en ensembles de training et test avec la taille de test=25%"
   ]
  },
  {
   "cell_type": "code",
   "execution_count": 133,
   "metadata": {
    "id": "gdlLjk6DKza3"
   },
   "outputs": [],
   "source": [
    "from sklearn.model_selection import train_test_split\n",
    "X_train_bis, X_test_bis, y_train_bis, y_test_bis = train_test_split(X, Y, test_size=0.25, shuffle=True)"
   ]
  },
  {
   "cell_type": "markdown",
   "metadata": {
    "id": "oSPytbWFKza3"
   },
   "source": [
    "**Question.** Constuire un modèle de réseau de neurones séquentiel contenant 2 couches cachées (25, 10). Attention: Il faut choisir la métrique de perte la plus adéquate! Vous pouvez utiliser ADAM comme l'exercice précédent."
   ]
  },
  {
   "cell_type": "code",
   "execution_count": 134,
   "metadata": {
    "id": "nWOuswExKza4"
   },
   "outputs": [],
   "source": [
    "#réseau complet\n",
    "entree= Input(shape=(7,)) # X_train_bis.shape[1] = 7\n",
    "cachee_1= Dense(25, activation='relu')(entree)\n",
    "cachee_2 = Dense(10, activation='relu')(cachee_1)\n",
    "sortie = Dense(1)(cachee_2)\n",
    "m = Model(entree, sortie)\n",
    "\n",
    "m.compile(loss='mse',          # fonction de perte\n",
    "              optimizer='adam', # optimiseur\n",
    "              metrics=['mae'])  # métrique"
   ]
  },
  {
   "cell_type": "code",
   "execution_count": 135,
   "metadata": {
    "colab": {
     "base_uri": "https://localhost:8080/"
    },
    "id": "K4s78549xdJ_",
    "outputId": "3cd436c7-3698-490f-8eb8-2bcdd842dc4d"
   },
   "outputs": [
    {
     "name": "stdout",
     "output_type": "stream",
     "text": [
      "Model: \"model_35\"\n",
      "_________________________________________________________________\n",
      " Layer (type)                Output Shape              Param #   \n",
      "=================================================================\n",
      " input_34 (InputLayer)       [(None, 7)]               0         \n",
      "                                                                 \n",
      " dense_113 (Dense)           (None, 25)                200       \n",
      "                                                                 \n",
      " dense_114 (Dense)           (None, 10)                260       \n",
      "                                                                 \n",
      " dense_115 (Dense)           (None, 1)                 11        \n",
      "                                                                 \n",
      "=================================================================\n",
      "Total params: 471\n",
      "Trainable params: 471\n",
      "Non-trainable params: 0\n",
      "_________________________________________________________________\n"
     ]
    }
   ],
   "source": [
    "m.summary()"
   ]
  },
  {
   "cell_type": "markdown",
   "metadata": {
    "id": "EC8YIveIKza4"
   },
   "source": [
    "**Question.** Entraîner maintenant le modèle avec un nombre d'epochs=300. Vous ajouterez la méthode EarlyStopping() avec min delta=$1e-3$, patience=5 et mode='auto'. Afficher et commenter les résultats obtenus."
   ]
  },
  {
   "cell_type": "code",
   "execution_count": 136,
   "metadata": {
    "id": "aDH7E2WAKza4"
   },
   "outputs": [],
   "source": [
    "# Normalisons les données\n",
    "mean = X_train_bis.mean(axis=0)\n",
    "std = X_train_bis.std(axis=0)\n",
    "\n",
    "X_train_bis = X_train_bis - mean\n",
    "X_train_bis = X_train_bis / std\n",
    "\n",
    "X_test_bis = X_test_bis - mean\n",
    "X_test_bis = X_test_bis / std"
   ]
  },
  {
   "cell_type": "code",
   "execution_count": 137,
   "metadata": {
    "colab": {
     "base_uri": "https://localhost:8080/"
    },
    "id": "GRMBfh1pKza5",
    "outputId": "4a3b697a-82b5-41e6-8cd4-7adfc0fff628"
   },
   "outputs": [
    {
     "name": "stdout",
     "output_type": "stream",
     "text": [
      "Epoch 1/300\n",
      "6/6 [==============================] - 1s 37ms/step - loss: 578.2657 - mae: 22.7988 - val_loss: 703.9714 - val_mae: 25.2031\n",
      "Epoch 2/300\n",
      "6/6 [==============================] - 0s 11ms/step - loss: 572.1356 - mae: 22.6633 - val_loss: 697.5034 - val_mae: 25.0737\n",
      "Epoch 3/300\n",
      "6/6 [==============================] - 0s 11ms/step - loss: 566.2702 - mae: 22.5309 - val_loss: 691.2349 - val_mae: 24.9460\n",
      "Epoch 4/300\n",
      "6/6 [==============================] - 0s 12ms/step - loss: 560.5001 - mae: 22.3987 - val_loss: 684.9142 - val_mae: 24.8168\n",
      "Epoch 5/300\n",
      "6/6 [==============================] - 0s 9ms/step - loss: 554.7059 - mae: 22.2650 - val_loss: 678.6223 - val_mae: 24.6873\n",
      "Epoch 6/300\n",
      "6/6 [==============================] - 0s 9ms/step - loss: 548.9913 - mae: 22.1314 - val_loss: 672.0964 - val_mae: 24.5534\n",
      "Epoch 7/300\n",
      "6/6 [==============================] - 0s 9ms/step - loss: 543.0897 - mae: 21.9955 - val_loss: 665.4014 - val_mae: 24.4149\n",
      "Epoch 8/300\n",
      "6/6 [==============================] - 0s 14ms/step - loss: 537.1257 - mae: 21.8529 - val_loss: 658.3279 - val_mae: 24.2682\n",
      "Epoch 9/300\n",
      "6/6 [==============================] - 0s 15ms/step - loss: 530.6640 - mae: 21.7021 - val_loss: 650.8539 - val_mae: 24.1115\n",
      "Epoch 10/300\n",
      "6/6 [==============================] - 0s 17ms/step - loss: 523.9380 - mae: 21.5387 - val_loss: 642.8013 - val_mae: 23.9419\n",
      "Epoch 11/300\n",
      "6/6 [==============================] - 0s 12ms/step - loss: 516.6680 - mae: 21.3625 - val_loss: 634.2762 - val_mae: 23.7605\n",
      "Epoch 12/300\n",
      "6/6 [==============================] - 0s 13ms/step - loss: 509.0058 - mae: 21.1762 - val_loss: 625.1318 - val_mae: 23.5642\n",
      "Epoch 13/300\n",
      "6/6 [==============================] - 0s 13ms/step - loss: 500.9730 - mae: 20.9728 - val_loss: 615.2587 - val_mae: 23.3522\n",
      "Epoch 14/300\n",
      "6/6 [==============================] - 0s 14ms/step - loss: 492.2032 - mae: 20.7572 - val_loss: 604.9874 - val_mae: 23.1274\n",
      "Epoch 15/300\n",
      "6/6 [==============================] - 0s 16ms/step - loss: 483.1006 - mae: 20.5215 - val_loss: 593.8495 - val_mae: 22.8825\n",
      "Epoch 16/300\n",
      "6/6 [==============================] - 0s 15ms/step - loss: 473.0724 - mae: 20.2680 - val_loss: 581.9039 - val_mae: 22.6175\n",
      "Epoch 17/300\n",
      "6/6 [==============================] - 0s 12ms/step - loss: 462.5673 - mae: 19.9957 - val_loss: 568.6147 - val_mae: 22.3219\n",
      "Epoch 18/300\n",
      "6/6 [==============================] - 0s 15ms/step - loss: 450.7458 - mae: 19.6940 - val_loss: 554.3174 - val_mae: 22.0004\n",
      "Epoch 19/300\n",
      "6/6 [==============================] - 0s 12ms/step - loss: 438.4926 - mae: 19.3653 - val_loss: 538.7921 - val_mae: 21.6504\n",
      "Epoch 20/300\n",
      "6/6 [==============================] - 0s 12ms/step - loss: 425.0278 - mae: 19.0128 - val_loss: 522.3583 - val_mae: 21.2730\n",
      "Epoch 21/300\n",
      "6/6 [==============================] - 0s 12ms/step - loss: 411.2153 - mae: 18.6363 - val_loss: 504.5670 - val_mae: 20.8611\n",
      "Epoch 22/300\n",
      "6/6 [==============================] - 0s 15ms/step - loss: 396.2043 - mae: 18.2230 - val_loss: 485.5426 - val_mae: 20.4145\n",
      "Epoch 23/300\n",
      "6/6 [==============================] - 0s 13ms/step - loss: 380.2950 - mae: 17.7783 - val_loss: 465.2473 - val_mae: 19.9257\n",
      "Epoch 24/300\n",
      "6/6 [==============================] - 0s 17ms/step - loss: 363.3634 - mae: 17.3005 - val_loss: 443.7365 - val_mae: 19.3985\n",
      "Epoch 25/300\n",
      "6/6 [==============================] - 0s 14ms/step - loss: 345.7147 - mae: 16.7893 - val_loss: 420.8626 - val_mae: 18.8287\n",
      "Epoch 26/300\n",
      "6/6 [==============================] - 0s 12ms/step - loss: 327.0475 - mae: 16.2356 - val_loss: 397.1446 - val_mae: 18.2225\n",
      "Epoch 27/300\n",
      "6/6 [==============================] - 0s 12ms/step - loss: 308.1009 - mae: 15.6743 - val_loss: 372.3977 - val_mae: 17.5772\n",
      "Epoch 28/300\n",
      "6/6 [==============================] - 0s 15ms/step - loss: 288.7185 - mae: 15.0961 - val_loss: 346.8317 - val_mae: 16.8924\n",
      "Epoch 29/300\n",
      "6/6 [==============================] - 0s 15ms/step - loss: 269.6144 - mae: 14.5305 - val_loss: 320.3916 - val_mae: 16.1737\n",
      "Epoch 30/300\n",
      "6/6 [==============================] - 0s 16ms/step - loss: 249.0312 - mae: 13.9227 - val_loss: 294.4601 - val_mae: 15.4708\n",
      "Epoch 31/300\n",
      "6/6 [==============================] - 0s 12ms/step - loss: 229.0466 - mae: 13.3208 - val_loss: 268.4904 - val_mae: 14.7399\n",
      "Epoch 32/300\n",
      "6/6 [==============================] - 0s 13ms/step - loss: 208.8978 - mae: 12.7033 - val_loss: 242.6020 - val_mae: 13.9782\n",
      "Epoch 33/300\n",
      "6/6 [==============================] - 0s 13ms/step - loss: 189.9680 - mae: 12.0836 - val_loss: 216.6221 - val_mae: 13.1930\n",
      "Epoch 34/300\n",
      "6/6 [==============================] - 0s 13ms/step - loss: 170.5575 - mae: 11.4532 - val_loss: 191.6319 - val_mae: 12.3936\n",
      "Epoch 35/300\n",
      "6/6 [==============================] - 0s 16ms/step - loss: 151.8395 - mae: 10.8048 - val_loss: 167.9058 - val_mae: 11.5862\n",
      "Epoch 36/300\n",
      "6/6 [==============================] - 0s 16ms/step - loss: 134.4583 - mae: 10.1550 - val_loss: 145.1279 - val_mae: 10.7516\n",
      "Epoch 37/300\n",
      "6/6 [==============================] - 0s 17ms/step - loss: 117.6426 - mae: 9.4959 - val_loss: 124.0006 - val_mae: 9.9112\n",
      "Epoch 38/300\n",
      "6/6 [==============================] - 0s 17ms/step - loss: 101.8477 - mae: 8.8236 - val_loss: 104.7555 - val_mae: 9.0748\n",
      "Epoch 39/300\n",
      "6/6 [==============================] - 0s 14ms/step - loss: 87.9977 - mae: 8.1687 - val_loss: 87.3038 - val_mae: 8.2282\n",
      "Epoch 40/300\n",
      "6/6 [==============================] - 0s 16ms/step - loss: 74.9086 - mae: 7.5028 - val_loss: 72.4273 - val_mae: 7.4235\n",
      "Epoch 41/300\n",
      "6/6 [==============================] - 0s 13ms/step - loss: 64.0630 - mae: 6.8986 - val_loss: 59.6175 - val_mae: 6.6727\n",
      "Epoch 42/300\n",
      "6/6 [==============================] - 0s 10ms/step - loss: 54.5250 - mae: 6.3100 - val_loss: 49.2728 - val_mae: 5.9849\n",
      "Epoch 43/300\n",
      "6/6 [==============================] - 0s 12ms/step - loss: 46.8434 - mae: 5.7735 - val_loss: 41.0597 - val_mae: 5.3969\n",
      "Epoch 44/300\n",
      "6/6 [==============================] - 0s 9ms/step - loss: 40.7673 - mae: 5.2957 - val_loss: 34.7416 - val_mae: 4.8938\n",
      "Epoch 45/300\n",
      "6/6 [==============================] - 0s 9ms/step - loss: 36.0539 - mae: 4.9012 - val_loss: 30.1249 - val_mae: 4.5019\n",
      "Epoch 46/300\n",
      "6/6 [==============================] - 0s 9ms/step - loss: 32.3259 - mae: 4.5765 - val_loss: 26.9653 - val_mae: 4.2086\n",
      "Epoch 47/300\n",
      "6/6 [==============================] - 0s 12ms/step - loss: 29.8362 - mae: 4.3412 - val_loss: 24.7892 - val_mae: 3.9712\n",
      "Epoch 48/300\n",
      "6/6 [==============================] - 0s 13ms/step - loss: 27.9416 - mae: 4.1426 - val_loss: 23.3413 - val_mae: 3.8164\n",
      "Epoch 49/300\n",
      "6/6 [==============================] - 0s 12ms/step - loss: 26.5122 - mae: 4.0165 - val_loss: 22.3977 - val_mae: 3.7321\n",
      "Epoch 50/300\n",
      "6/6 [==============================] - 0s 9ms/step - loss: 25.5532 - mae: 3.9323 - val_loss: 21.7288 - val_mae: 3.6709\n",
      "Epoch 51/300\n",
      "6/6 [==============================] - 0s 9ms/step - loss: 24.7750 - mae: 3.8733 - val_loss: 21.1983 - val_mae: 3.6258\n",
      "Epoch 52/300\n",
      "6/6 [==============================] - 0s 13ms/step - loss: 24.1504 - mae: 3.8265 - val_loss: 20.7836 - val_mae: 3.5944\n",
      "Epoch 53/300\n",
      "6/6 [==============================] - 0s 9ms/step - loss: 23.5985 - mae: 3.7809 - val_loss: 20.4055 - val_mae: 3.5625\n",
      "Epoch 54/300\n",
      "6/6 [==============================] - 0s 12ms/step - loss: 23.0377 - mae: 3.7375 - val_loss: 20.0809 - val_mae: 3.5309\n",
      "Epoch 55/300\n",
      "6/6 [==============================] - 0s 9ms/step - loss: 22.5662 - mae: 3.7000 - val_loss: 19.7643 - val_mae: 3.5048\n",
      "Epoch 56/300\n",
      "6/6 [==============================] - 0s 10ms/step - loss: 22.1403 - mae: 3.6651 - val_loss: 19.4549 - val_mae: 3.4795\n",
      "Epoch 57/300\n",
      "6/6 [==============================] - 0s 9ms/step - loss: 21.6610 - mae: 3.6256 - val_loss: 19.1736 - val_mae: 3.4544\n",
      "Epoch 58/300\n",
      "6/6 [==============================] - 0s 10ms/step - loss: 21.2600 - mae: 3.5951 - val_loss: 18.9082 - val_mae: 3.4322\n",
      "Epoch 59/300\n",
      "6/6 [==============================] - 0s 9ms/step - loss: 20.8437 - mae: 3.5585 - val_loss: 18.6717 - val_mae: 3.4074\n",
      "Epoch 60/300\n",
      "6/6 [==============================] - 0s 11ms/step - loss: 20.4685 - mae: 3.5201 - val_loss: 18.4268 - val_mae: 3.3827\n",
      "Epoch 61/300\n",
      "6/6 [==============================] - 0s 12ms/step - loss: 20.0634 - mae: 3.4815 - val_loss: 18.1835 - val_mae: 3.3577\n",
      "Epoch 62/300\n",
      "6/6 [==============================] - 0s 9ms/step - loss: 19.7396 - mae: 3.4507 - val_loss: 17.9420 - val_mae: 3.3333\n",
      "Epoch 63/300\n",
      "6/6 [==============================] - 0s 9ms/step - loss: 19.3896 - mae: 3.4150 - val_loss: 17.7417 - val_mae: 3.3127\n",
      "Epoch 64/300\n",
      "6/6 [==============================] - 0s 13ms/step - loss: 19.0696 - mae: 3.3800 - val_loss: 17.5718 - val_mae: 3.2963\n",
      "Epoch 65/300\n",
      "6/6 [==============================] - 0s 12ms/step - loss: 18.7909 - mae: 3.3486 - val_loss: 17.4053 - val_mae: 3.2810\n",
      "Epoch 66/300\n",
      "6/6 [==============================] - 0s 9ms/step - loss: 18.4740 - mae: 3.3198 - val_loss: 17.2180 - val_mae: 3.2683\n",
      "Epoch 67/300\n",
      "6/6 [==============================] - 0s 10ms/step - loss: 18.1930 - mae: 3.2913 - val_loss: 17.0558 - val_mae: 3.2524\n",
      "Epoch 68/300\n",
      "6/6 [==============================] - 0s 10ms/step - loss: 17.9324 - mae: 3.2658 - val_loss: 16.9013 - val_mae: 3.2376\n",
      "Epoch 69/300\n",
      "6/6 [==============================] - 0s 9ms/step - loss: 17.6830 - mae: 3.2393 - val_loss: 16.7445 - val_mae: 3.2255\n",
      "Epoch 70/300\n",
      "6/6 [==============================] - 0s 9ms/step - loss: 17.4493 - mae: 3.2148 - val_loss: 16.5928 - val_mae: 3.2107\n",
      "Epoch 71/300\n",
      "6/6 [==============================] - 0s 10ms/step - loss: 17.2262 - mae: 3.1905 - val_loss: 16.4605 - val_mae: 3.1960\n",
      "Epoch 72/300\n",
      "6/6 [==============================] - 0s 13ms/step - loss: 17.0040 - mae: 3.1659 - val_loss: 16.3380 - val_mae: 3.1818\n",
      "Epoch 73/300\n",
      "6/6 [==============================] - 0s 15ms/step - loss: 16.8080 - mae: 3.1427 - val_loss: 16.2018 - val_mae: 3.1679\n",
      "Epoch 74/300\n",
      "6/6 [==============================] - 0s 13ms/step - loss: 16.6155 - mae: 3.1216 - val_loss: 16.0765 - val_mae: 3.1554\n",
      "Epoch 75/300\n",
      "6/6 [==============================] - 0s 9ms/step - loss: 16.4230 - mae: 3.1005 - val_loss: 15.9686 - val_mae: 3.1422\n",
      "Epoch 76/300\n",
      "6/6 [==============================] - 0s 10ms/step - loss: 16.2589 - mae: 3.0822 - val_loss: 15.8656 - val_mae: 3.1290\n",
      "Epoch 77/300\n",
      "6/6 [==============================] - 0s 9ms/step - loss: 16.0889 - mae: 3.0614 - val_loss: 15.7809 - val_mae: 3.1190\n",
      "Epoch 78/300\n",
      "6/6 [==============================] - 0s 15ms/step - loss: 15.9098 - mae: 3.0415 - val_loss: 15.7187 - val_mae: 3.1064\n",
      "Epoch 79/300\n",
      "6/6 [==============================] - 0s 8ms/step - loss: 15.7506 - mae: 3.0261 - val_loss: 15.6476 - val_mae: 3.0961\n",
      "Epoch 80/300\n",
      "6/6 [==============================] - 0s 10ms/step - loss: 15.6037 - mae: 3.0073 - val_loss: 15.5524 - val_mae: 3.0828\n",
      "Epoch 81/300\n",
      "6/6 [==============================] - 0s 10ms/step - loss: 15.4528 - mae: 2.9906 - val_loss: 15.4602 - val_mae: 3.0730\n",
      "Epoch 82/300\n",
      "6/6 [==============================] - 0s 11ms/step - loss: 15.3162 - mae: 2.9751 - val_loss: 15.3559 - val_mae: 3.0609\n",
      "Epoch 83/300\n",
      "6/6 [==============================] - 0s 12ms/step - loss: 15.1844 - mae: 2.9601 - val_loss: 15.3071 - val_mae: 3.0514\n",
      "Epoch 84/300\n",
      "6/6 [==============================] - 0s 12ms/step - loss: 15.0325 - mae: 2.9439 - val_loss: 15.2134 - val_mae: 3.0413\n",
      "Epoch 85/300\n",
      "6/6 [==============================] - 0s 9ms/step - loss: 14.9058 - mae: 2.9290 - val_loss: 15.1272 - val_mae: 3.0315\n",
      "Epoch 86/300\n",
      "6/6 [==============================] - 0s 9ms/step - loss: 14.7670 - mae: 2.9135 - val_loss: 15.0537 - val_mae: 3.0201\n",
      "Epoch 87/300\n",
      "6/6 [==============================] - 0s 9ms/step - loss: 14.6639 - mae: 2.9040 - val_loss: 14.9852 - val_mae: 3.0141\n",
      "Epoch 88/300\n",
      "6/6 [==============================] - 0s 9ms/step - loss: 14.5278 - mae: 2.8872 - val_loss: 14.9066 - val_mae: 3.0046\n",
      "Epoch 89/300\n",
      "6/6 [==============================] - 0s 10ms/step - loss: 14.4096 - mae: 2.8733 - val_loss: 14.8088 - val_mae: 2.9933\n",
      "Epoch 90/300\n",
      "6/6 [==============================] - 0s 13ms/step - loss: 14.3042 - mae: 2.8572 - val_loss: 14.7694 - val_mae: 2.9831\n",
      "Epoch 91/300\n",
      "6/6 [==============================] - 0s 9ms/step - loss: 14.1780 - mae: 2.8418 - val_loss: 14.7217 - val_mae: 2.9748\n",
      "Epoch 92/300\n",
      "6/6 [==============================] - 0s 12ms/step - loss: 14.0779 - mae: 2.8304 - val_loss: 14.6711 - val_mae: 2.9661\n",
      "Epoch 93/300\n",
      "6/6 [==============================] - 0s 10ms/step - loss: 13.9657 - mae: 2.8178 - val_loss: 14.6087 - val_mae: 2.9580\n",
      "Epoch 94/300\n",
      "6/6 [==============================] - 0s 13ms/step - loss: 13.8858 - mae: 2.8085 - val_loss: 14.5799 - val_mae: 2.9562\n",
      "Epoch 95/300\n",
      "6/6 [==============================] - 0s 10ms/step - loss: 13.7669 - mae: 2.7964 - val_loss: 14.4713 - val_mae: 2.9449\n",
      "Epoch 96/300\n",
      "6/6 [==============================] - 0s 9ms/step - loss: 13.6574 - mae: 2.7822 - val_loss: 14.4308 - val_mae: 2.9385\n",
      "Epoch 97/300\n",
      "6/6 [==============================] - 0s 11ms/step - loss: 13.5702 - mae: 2.7721 - val_loss: 14.4136 - val_mae: 2.9371\n",
      "Epoch 98/300\n",
      "6/6 [==============================] - 0s 9ms/step - loss: 13.4677 - mae: 2.7597 - val_loss: 14.3231 - val_mae: 2.9309\n",
      "Epoch 99/300\n",
      "6/6 [==============================] - 0s 13ms/step - loss: 13.3676 - mae: 2.7461 - val_loss: 14.2808 - val_mae: 2.9274\n",
      "Epoch 100/300\n",
      "6/6 [==============================] - 0s 14ms/step - loss: 13.2830 - mae: 2.7367 - val_loss: 14.1655 - val_mae: 2.9197\n",
      "Epoch 101/300\n",
      "6/6 [==============================] - 0s 9ms/step - loss: 13.1715 - mae: 2.7210 - val_loss: 14.0913 - val_mae: 2.9134\n",
      "Epoch 102/300\n",
      "6/6 [==============================] - 0s 10ms/step - loss: 13.0888 - mae: 2.7074 - val_loss: 14.0451 - val_mae: 2.9102\n",
      "Epoch 103/300\n",
      "6/6 [==============================] - 0s 11ms/step - loss: 13.0033 - mae: 2.6944 - val_loss: 14.0159 - val_mae: 2.9070\n",
      "Epoch 104/300\n",
      "6/6 [==============================] - 0s 15ms/step - loss: 12.9180 - mae: 2.6857 - val_loss: 13.9907 - val_mae: 2.9044\n",
      "Epoch 105/300\n",
      "6/6 [==============================] - 0s 9ms/step - loss: 12.8374 - mae: 2.6742 - val_loss: 13.9784 - val_mae: 2.9046\n",
      "Epoch 106/300\n",
      "6/6 [==============================] - 0s 9ms/step - loss: 12.7543 - mae: 2.6637 - val_loss: 13.8939 - val_mae: 2.8980\n",
      "Epoch 107/300\n",
      "6/6 [==============================] - 0s 13ms/step - loss: 12.6665 - mae: 2.6532 - val_loss: 13.8647 - val_mae: 2.8962\n",
      "Epoch 108/300\n",
      "6/6 [==============================] - 0s 12ms/step - loss: 12.5847 - mae: 2.6409 - val_loss: 13.7845 - val_mae: 2.8882\n",
      "Epoch 109/300\n",
      "6/6 [==============================] - 0s 13ms/step - loss: 12.5494 - mae: 2.6338 - val_loss: 13.6514 - val_mae: 2.8787\n",
      "Epoch 110/300\n",
      "6/6 [==============================] - 0s 9ms/step - loss: 12.4326 - mae: 2.6197 - val_loss: 13.6263 - val_mae: 2.8768\n",
      "Epoch 111/300\n",
      "6/6 [==============================] - 0s 9ms/step - loss: 12.3563 - mae: 2.6089 - val_loss: 13.6500 - val_mae: 2.8797\n",
      "Epoch 112/300\n",
      "6/6 [==============================] - 0s 12ms/step - loss: 12.2947 - mae: 2.6025 - val_loss: 13.6708 - val_mae: 2.8818\n",
      "Epoch 113/300\n",
      "6/6 [==============================] - 0s 10ms/step - loss: 12.2117 - mae: 2.5936 - val_loss: 13.5545 - val_mae: 2.8700\n",
      "Epoch 114/300\n",
      "6/6 [==============================] - 0s 9ms/step - loss: 12.1264 - mae: 2.5828 - val_loss: 13.4655 - val_mae: 2.8627\n",
      "Epoch 115/300\n",
      "6/6 [==============================] - 0s 9ms/step - loss: 12.0557 - mae: 2.5748 - val_loss: 13.3917 - val_mae: 2.8553\n",
      "Epoch 116/300\n",
      "6/6 [==============================] - 0s 10ms/step - loss: 11.9847 - mae: 2.5663 - val_loss: 13.3276 - val_mae: 2.8490\n",
      "Epoch 117/300\n",
      "6/6 [==============================] - 0s 13ms/step - loss: 11.9266 - mae: 2.5579 - val_loss: 13.2237 - val_mae: 2.8390\n",
      "Epoch 118/300\n",
      "6/6 [==============================] - 0s 9ms/step - loss: 11.8505 - mae: 2.5486 - val_loss: 13.1922 - val_mae: 2.8349\n",
      "Epoch 119/300\n",
      "6/6 [==============================] - 0s 10ms/step - loss: 11.7867 - mae: 2.5403 - val_loss: 13.1425 - val_mae: 2.8295\n",
      "Epoch 120/300\n",
      "6/6 [==============================] - 0s 9ms/step - loss: 11.7147 - mae: 2.5309 - val_loss: 13.1148 - val_mae: 2.8265\n",
      "Epoch 121/300\n",
      "6/6 [==============================] - 0s 14ms/step - loss: 11.6572 - mae: 2.5239 - val_loss: 13.0727 - val_mae: 2.8218\n",
      "Epoch 122/300\n",
      "6/6 [==============================] - 0s 13ms/step - loss: 11.5872 - mae: 2.5139 - val_loss: 13.0140 - val_mae: 2.8166\n",
      "Epoch 123/300\n",
      "6/6 [==============================] - 0s 13ms/step - loss: 11.5265 - mae: 2.5066 - val_loss: 12.9506 - val_mae: 2.8096\n",
      "Epoch 124/300\n",
      "6/6 [==============================] - 0s 9ms/step - loss: 11.4606 - mae: 2.4984 - val_loss: 12.9406 - val_mae: 2.8056\n",
      "Epoch 125/300\n",
      "6/6 [==============================] - 0s 13ms/step - loss: 11.4033 - mae: 2.4901 - val_loss: 12.8717 - val_mae: 2.7985\n",
      "Epoch 126/300\n",
      "6/6 [==============================] - 0s 9ms/step - loss: 11.3390 - mae: 2.4815 - val_loss: 12.8517 - val_mae: 2.7971\n",
      "Epoch 127/300\n",
      "6/6 [==============================] - 0s 10ms/step - loss: 11.2866 - mae: 2.4742 - val_loss: 12.8403 - val_mae: 2.7970\n",
      "Epoch 128/300\n",
      "6/6 [==============================] - 0s 12ms/step - loss: 11.2204 - mae: 2.4654 - val_loss: 12.7580 - val_mae: 2.7901\n",
      "Epoch 129/300\n",
      "6/6 [==============================] - 0s 14ms/step - loss: 11.1634 - mae: 2.4578 - val_loss: 12.6661 - val_mae: 2.7796\n",
      "Epoch 130/300\n",
      "6/6 [==============================] - 0s 13ms/step - loss: 11.0979 - mae: 2.4505 - val_loss: 12.6371 - val_mae: 2.7768\n",
      "Epoch 131/300\n",
      "6/6 [==============================] - 0s 13ms/step - loss: 11.0420 - mae: 2.4430 - val_loss: 12.5531 - val_mae: 2.7684\n",
      "Epoch 132/300\n",
      "6/6 [==============================] - 0s 14ms/step - loss: 10.9875 - mae: 2.4368 - val_loss: 12.5242 - val_mae: 2.7659\n",
      "Epoch 133/300\n",
      "6/6 [==============================] - 0s 11ms/step - loss: 10.9310 - mae: 2.4301 - val_loss: 12.4372 - val_mae: 2.7569\n",
      "Epoch 134/300\n",
      "6/6 [==============================] - 0s 9ms/step - loss: 10.8655 - mae: 2.4210 - val_loss: 12.4120 - val_mae: 2.7518\n",
      "Epoch 135/300\n",
      "6/6 [==============================] - 0s 12ms/step - loss: 10.8114 - mae: 2.4131 - val_loss: 12.3979 - val_mae: 2.7485\n",
      "Epoch 136/300\n",
      "6/6 [==============================] - 0s 9ms/step - loss: 10.7615 - mae: 2.4074 - val_loss: 12.4229 - val_mae: 2.7523\n",
      "Epoch 137/300\n",
      "6/6 [==============================] - 0s 9ms/step - loss: 10.6959 - mae: 2.3963 - val_loss: 12.3556 - val_mae: 2.7445\n",
      "Epoch 138/300\n",
      "6/6 [==============================] - 0s 13ms/step - loss: 10.6448 - mae: 2.3892 - val_loss: 12.3019 - val_mae: 2.7389\n",
      "Epoch 139/300\n",
      "6/6 [==============================] - 0s 9ms/step - loss: 10.5973 - mae: 2.3829 - val_loss: 12.2126 - val_mae: 2.7297\n",
      "Epoch 140/300\n",
      "6/6 [==============================] - 0s 10ms/step - loss: 10.5346 - mae: 2.3750 - val_loss: 12.1848 - val_mae: 2.7258\n",
      "Epoch 141/300\n",
      "6/6 [==============================] - 0s 12ms/step - loss: 10.4930 - mae: 2.3691 - val_loss: 12.1344 - val_mae: 2.7193\n",
      "Epoch 142/300\n",
      "6/6 [==============================] - 0s 9ms/step - loss: 10.4363 - mae: 2.3616 - val_loss: 12.1492 - val_mae: 2.7202\n",
      "Epoch 143/300\n",
      "6/6 [==============================] - 0s 10ms/step - loss: 10.3826 - mae: 2.3529 - val_loss: 12.1255 - val_mae: 2.7177\n",
      "Epoch 144/300\n",
      "6/6 [==============================] - 0s 9ms/step - loss: 10.3355 - mae: 2.3472 - val_loss: 12.0471 - val_mae: 2.7086\n",
      "Epoch 145/300\n",
      "6/6 [==============================] - 0s 16ms/step - loss: 10.2718 - mae: 2.3379 - val_loss: 12.0247 - val_mae: 2.7061\n",
      "Epoch 146/300\n",
      "6/6 [==============================] - 0s 10ms/step - loss: 10.2276 - mae: 2.3318 - val_loss: 12.0175 - val_mae: 2.7042\n",
      "Epoch 147/300\n",
      "6/6 [==============================] - 0s 11ms/step - loss: 10.1793 - mae: 2.3250 - val_loss: 11.9931 - val_mae: 2.7017\n",
      "Epoch 148/300\n",
      "6/6 [==============================] - 0s 12ms/step - loss: 10.1527 - mae: 2.3202 - val_loss: 11.8623 - val_mae: 2.6867\n",
      "Epoch 149/300\n",
      "6/6 [==============================] - 0s 12ms/step - loss: 10.0821 - mae: 2.3134 - val_loss: 11.8033 - val_mae: 2.6784\n",
      "Epoch 150/300\n",
      "6/6 [==============================] - 0s 10ms/step - loss: 10.0369 - mae: 2.3077 - val_loss: 11.7961 - val_mae: 2.6752\n",
      "Epoch 151/300\n",
      "6/6 [==============================] - 0s 9ms/step - loss: 9.9995 - mae: 2.3008 - val_loss: 11.7706 - val_mae: 2.6711\n",
      "Epoch 152/300\n",
      "6/6 [==============================] - 0s 12ms/step - loss: 9.9640 - mae: 2.2984 - val_loss: 11.6542 - val_mae: 2.6595\n",
      "Epoch 153/300\n",
      "6/6 [==============================] - 0s 9ms/step - loss: 9.8948 - mae: 2.2884 - val_loss: 11.6578 - val_mae: 2.6590\n",
      "Epoch 154/300\n",
      "6/6 [==============================] - 0s 9ms/step - loss: 9.8532 - mae: 2.2799 - val_loss: 11.6139 - val_mae: 2.6562\n",
      "Epoch 155/300\n",
      "6/6 [==============================] - 0s 10ms/step - loss: 9.8047 - mae: 2.2716 - val_loss: 11.6592 - val_mae: 2.6589\n",
      "Epoch 156/300\n",
      "6/6 [==============================] - 0s 9ms/step - loss: 9.7558 - mae: 2.2663 - val_loss: 11.5773 - val_mae: 2.6498\n",
      "Epoch 157/300\n",
      "6/6 [==============================] - 0s 9ms/step - loss: 9.6995 - mae: 2.2587 - val_loss: 11.5306 - val_mae: 2.6450\n",
      "Epoch 158/300\n",
      "6/6 [==============================] - 0s 13ms/step - loss: 9.6703 - mae: 2.2541 - val_loss: 11.4265 - val_mae: 2.6344\n",
      "Epoch 159/300\n",
      "6/6 [==============================] - 0s 12ms/step - loss: 9.6116 - mae: 2.2461 - val_loss: 11.3867 - val_mae: 2.6315\n",
      "Epoch 160/300\n",
      "6/6 [==============================] - 0s 12ms/step - loss: 9.5736 - mae: 2.2412 - val_loss: 11.3565 - val_mae: 2.6277\n",
      "Epoch 161/300\n",
      "6/6 [==============================] - 0s 13ms/step - loss: 9.5214 - mae: 2.2346 - val_loss: 11.2999 - val_mae: 2.6220\n",
      "Epoch 162/300\n",
      "6/6 [==============================] - 0s 10ms/step - loss: 9.4824 - mae: 2.2279 - val_loss: 11.2626 - val_mae: 2.6189\n",
      "Epoch 163/300\n",
      "6/6 [==============================] - 0s 12ms/step - loss: 9.4464 - mae: 2.2231 - val_loss: 11.2208 - val_mae: 2.6135\n",
      "Epoch 164/300\n",
      "6/6 [==============================] - 0s 13ms/step - loss: 9.3997 - mae: 2.2172 - val_loss: 11.2106 - val_mae: 2.6118\n",
      "Epoch 165/300\n",
      "6/6 [==============================] - 0s 13ms/step - loss: 9.3599 - mae: 2.2115 - val_loss: 11.1268 - val_mae: 2.6035\n",
      "Epoch 166/300\n",
      "6/6 [==============================] - 0s 13ms/step - loss: 9.3158 - mae: 2.2039 - val_loss: 11.1378 - val_mae: 2.6023\n",
      "Epoch 167/300\n",
      "6/6 [==============================] - 0s 8ms/step - loss: 9.2697 - mae: 2.1964 - val_loss: 11.1282 - val_mae: 2.6006\n",
      "Epoch 168/300\n",
      "6/6 [==============================] - 0s 14ms/step - loss: 9.2309 - mae: 2.1902 - val_loss: 11.1294 - val_mae: 2.5993\n",
      "Epoch 169/300\n",
      "6/6 [==============================] - 0s 13ms/step - loss: 9.1957 - mae: 2.1853 - val_loss: 11.0866 - val_mae: 2.5945\n",
      "Epoch 170/300\n",
      "6/6 [==============================] - 0s 12ms/step - loss: 9.1865 - mae: 2.1853 - val_loss: 10.9634 - val_mae: 2.5827\n",
      "Epoch 171/300\n",
      "6/6 [==============================] - 0s 9ms/step - loss: 9.1138 - mae: 2.1761 - val_loss: 10.9392 - val_mae: 2.5800\n",
      "Epoch 172/300\n",
      "6/6 [==============================] - 0s 14ms/step - loss: 9.0668 - mae: 2.1675 - val_loss: 10.9519 - val_mae: 2.5780\n",
      "Epoch 173/300\n",
      "6/6 [==============================] - 0s 9ms/step - loss: 9.0302 - mae: 2.1609 - val_loss: 10.9643 - val_mae: 2.5747\n",
      "Epoch 174/300\n",
      "6/6 [==============================] - 0s 10ms/step - loss: 8.9967 - mae: 2.1548 - val_loss: 10.8890 - val_mae: 2.5667\n",
      "Epoch 175/300\n",
      "6/6 [==============================] - 0s 10ms/step - loss: 8.9561 - mae: 2.1482 - val_loss: 10.8674 - val_mae: 2.5619\n",
      "Epoch 176/300\n",
      "6/6 [==============================] - 0s 12ms/step - loss: 8.9271 - mae: 2.1439 - val_loss: 10.8610 - val_mae: 2.5595\n",
      "Epoch 177/300\n",
      "6/6 [==============================] - 0s 9ms/step - loss: 8.8911 - mae: 2.1381 - val_loss: 10.8440 - val_mae: 2.5569\n",
      "Epoch 178/300\n",
      "6/6 [==============================] - 0s 14ms/step - loss: 8.8561 - mae: 2.1345 - val_loss: 10.7130 - val_mae: 2.5489\n",
      "Epoch 179/300\n",
      "6/6 [==============================] - 0s 9ms/step - loss: 8.8106 - mae: 2.1293 - val_loss: 10.6790 - val_mae: 2.5451\n",
      "Epoch 180/300\n",
      "6/6 [==============================] - 0s 12ms/step - loss: 8.7809 - mae: 2.1239 - val_loss: 10.6415 - val_mae: 2.5377\n",
      "Epoch 181/300\n",
      "6/6 [==============================] - 0s 12ms/step - loss: 8.7375 - mae: 2.1176 - val_loss: 10.6182 - val_mae: 2.5346\n",
      "Epoch 182/300\n",
      "6/6 [==============================] - 0s 14ms/step - loss: 8.7112 - mae: 2.1097 - val_loss: 10.6699 - val_mae: 2.5376\n",
      "Epoch 183/300\n",
      "6/6 [==============================] - 0s 13ms/step - loss: 8.6915 - mae: 2.1070 - val_loss: 10.6767 - val_mae: 2.5357\n",
      "Epoch 184/300\n",
      "6/6 [==============================] - 0s 9ms/step - loss: 8.6513 - mae: 2.1067 - val_loss: 10.5565 - val_mae: 2.5295\n",
      "Epoch 185/300\n",
      "6/6 [==============================] - 0s 11ms/step - loss: 8.6080 - mae: 2.1000 - val_loss: 10.5408 - val_mae: 2.5276\n",
      "Epoch 186/300\n",
      "6/6 [==============================] - 0s 12ms/step - loss: 8.5761 - mae: 2.0924 - val_loss: 10.5175 - val_mae: 2.5252\n",
      "Epoch 187/300\n",
      "6/6 [==============================] - 0s 12ms/step - loss: 8.5358 - mae: 2.0854 - val_loss: 10.4644 - val_mae: 2.5208\n",
      "Epoch 188/300\n",
      "6/6 [==============================] - 0s 9ms/step - loss: 8.5030 - mae: 2.0802 - val_loss: 10.4237 - val_mae: 2.5180\n",
      "Epoch 189/300\n",
      "6/6 [==============================] - 0s 15ms/step - loss: 8.4782 - mae: 2.0777 - val_loss: 10.4264 - val_mae: 2.5177\n",
      "Epoch 190/300\n",
      "6/6 [==============================] - 0s 16ms/step - loss: 8.4503 - mae: 2.0716 - val_loss: 10.4290 - val_mae: 2.5171\n",
      "Epoch 191/300\n",
      "6/6 [==============================] - 0s 12ms/step - loss: 8.4248 - mae: 2.0647 - val_loss: 10.3661 - val_mae: 2.5117\n",
      "Epoch 192/300\n",
      "6/6 [==============================] - 0s 17ms/step - loss: 8.3824 - mae: 2.0567 - val_loss: 10.3870 - val_mae: 2.5111\n",
      "Epoch 193/300\n",
      "6/6 [==============================] - 0s 17ms/step - loss: 8.3559 - mae: 2.0548 - val_loss: 10.3792 - val_mae: 2.5081\n",
      "Epoch 194/300\n",
      "6/6 [==============================] - 0s 14ms/step - loss: 8.3208 - mae: 2.0485 - val_loss: 10.3474 - val_mae: 2.5055\n",
      "Epoch 195/300\n",
      "6/6 [==============================] - 0s 16ms/step - loss: 8.2903 - mae: 2.0440 - val_loss: 10.2672 - val_mae: 2.5000\n",
      "Epoch 196/300\n",
      "6/6 [==============================] - 0s 17ms/step - loss: 8.2538 - mae: 2.0390 - val_loss: 10.2098 - val_mae: 2.4930\n",
      "Epoch 197/300\n",
      "6/6 [==============================] - 0s 17ms/step - loss: 8.2343 - mae: 2.0384 - val_loss: 10.1737 - val_mae: 2.4893\n",
      "Epoch 198/300\n",
      "6/6 [==============================] - 0s 15ms/step - loss: 8.2105 - mae: 2.0319 - val_loss: 10.1972 - val_mae: 2.4891\n",
      "Epoch 199/300\n",
      "6/6 [==============================] - 0s 15ms/step - loss: 8.1689 - mae: 2.0269 - val_loss: 10.1179 - val_mae: 2.4832\n",
      "Epoch 200/300\n",
      "6/6 [==============================] - 0s 18ms/step - loss: 8.1304 - mae: 2.0206 - val_loss: 10.0985 - val_mae: 2.4807\n",
      "Epoch 201/300\n",
      "6/6 [==============================] - 0s 16ms/step - loss: 8.1113 - mae: 2.0169 - val_loss: 10.1096 - val_mae: 2.4800\n",
      "Epoch 202/300\n",
      "6/6 [==============================] - 0s 18ms/step - loss: 8.0800 - mae: 2.0105 - val_loss: 10.0735 - val_mae: 2.4752\n",
      "Epoch 203/300\n",
      "6/6 [==============================] - 0s 23ms/step - loss: 8.0508 - mae: 2.0065 - val_loss: 10.0665 - val_mae: 2.4723\n",
      "Epoch 204/300\n",
      "6/6 [==============================] - 0s 12ms/step - loss: 8.0230 - mae: 2.0025 - val_loss: 10.0363 - val_mae: 2.4685\n",
      "Epoch 205/300\n",
      "6/6 [==============================] - 0s 18ms/step - loss: 7.9908 - mae: 1.9973 - val_loss: 10.0039 - val_mae: 2.4658\n",
      "Epoch 206/300\n",
      "6/6 [==============================] - 0s 16ms/step - loss: 7.9730 - mae: 1.9919 - val_loss: 9.9647 - val_mae: 2.4610\n",
      "Epoch 207/300\n",
      "6/6 [==============================] - 0s 13ms/step - loss: 7.9447 - mae: 1.9862 - val_loss: 9.9031 - val_mae: 2.4551\n",
      "Epoch 208/300\n",
      "6/6 [==============================] - 0s 13ms/step - loss: 7.9264 - mae: 1.9826 - val_loss: 9.8863 - val_mae: 2.4539\n",
      "Epoch 209/300\n",
      "6/6 [==============================] - 0s 15ms/step - loss: 7.8925 - mae: 1.9762 - val_loss: 9.8054 - val_mae: 2.4448\n",
      "Epoch 210/300\n",
      "6/6 [==============================] - 0s 15ms/step - loss: 7.8694 - mae: 1.9720 - val_loss: 9.7689 - val_mae: 2.4413\n",
      "Epoch 211/300\n",
      "6/6 [==============================] - 0s 16ms/step - loss: 7.8466 - mae: 1.9700 - val_loss: 9.7533 - val_mae: 2.4388\n",
      "Epoch 212/300\n",
      "6/6 [==============================] - 0s 15ms/step - loss: 7.8175 - mae: 1.9633 - val_loss: 9.7734 - val_mae: 2.4381\n",
      "Epoch 213/300\n",
      "6/6 [==============================] - 0s 19ms/step - loss: 7.7923 - mae: 1.9618 - val_loss: 9.7793 - val_mae: 2.4379\n",
      "Epoch 214/300\n",
      "6/6 [==============================] - 0s 18ms/step - loss: 7.7645 - mae: 1.9559 - val_loss: 9.7482 - val_mae: 2.4336\n",
      "Epoch 215/300\n",
      "6/6 [==============================] - 0s 14ms/step - loss: 7.7739 - mae: 1.9577 - val_loss: 9.6885 - val_mae: 2.4272\n",
      "Epoch 216/300\n",
      "6/6 [==============================] - 0s 16ms/step - loss: 7.7119 - mae: 1.9497 - val_loss: 9.7165 - val_mae: 2.4280\n",
      "Epoch 217/300\n",
      "6/6 [==============================] - 0s 17ms/step - loss: 7.6839 - mae: 1.9436 - val_loss: 9.7000 - val_mae: 2.4254\n",
      "Epoch 218/300\n",
      "6/6 [==============================] - 0s 16ms/step - loss: 7.6637 - mae: 1.9397 - val_loss: 9.6651 - val_mae: 2.4215\n",
      "Epoch 219/300\n",
      "6/6 [==============================] - 0s 14ms/step - loss: 7.6300 - mae: 1.9354 - val_loss: 9.5586 - val_mae: 2.4120\n",
      "Epoch 220/300\n",
      "6/6 [==============================] - 0s 14ms/step - loss: 7.6219 - mae: 1.9381 - val_loss: 9.5146 - val_mae: 2.4091\n",
      "Epoch 221/300\n",
      "6/6 [==============================] - 0s 9ms/step - loss: 7.5993 - mae: 1.9335 - val_loss: 9.5391 - val_mae: 2.4076\n",
      "Epoch 222/300\n",
      "6/6 [==============================] - 0s 9ms/step - loss: 7.5603 - mae: 1.9260 - val_loss: 9.5615 - val_mae: 2.4083\n",
      "Epoch 223/300\n",
      "6/6 [==============================] - 0s 13ms/step - loss: 7.5429 - mae: 1.9229 - val_loss: 9.5420 - val_mae: 2.4068\n",
      "Epoch 224/300\n",
      "6/6 [==============================] - 0s 13ms/step - loss: 7.5148 - mae: 1.9195 - val_loss: 9.5646 - val_mae: 2.4062\n",
      "Epoch 225/300\n",
      "6/6 [==============================] - 0s 12ms/step - loss: 7.4895 - mae: 1.9182 - val_loss: 9.5296 - val_mae: 2.4030\n",
      "Epoch 225: early stopping\n"
     ]
    }
   ],
   "source": [
    "# Apprentissage\n",
    "es = EarlyStopping(min_delta=0.001, patience=5, verbose=1, mode='auto')\n",
    "h = m.fit(X_train_bis, y_train_bis,\n",
    "                    epochs=300,\n",
    "                    batch_size=40,\n",
    "                    verbose = 1,\n",
    "                    validation_split=0.25,\n",
    "                    callbacks=[es])"
   ]
  },
  {
   "cell_type": "markdown",
   "metadata": {
    "id": "3oEh7jBB2Oix"
   },
   "source": [
    "### Comme verbose égal 1, on peut lire les informations. Selon les ensembles d'apprentissage, et les ensembles de validation, on n'a ou pas d'overfiting. Si on a overfitiging, le dernier époque d'entrainement correspond à l'époque au dessus duquel le model commence à sur-ajuster, et donc EarlyStopping arrête l'entrainement."
   ]
  },
  {
   "cell_type": "code",
   "execution_count": 138,
   "metadata": {
    "id": "MFc2hc0R2vPo"
   },
   "outputs": [],
   "source": [
    "def affiche_evolution_apprentissage_regression(history):\n",
    "    #affiche history.history.keys()\n",
    "    plt.plot(history.history['mae'])\n",
    "    plt.plot(history.history['val_mae'])\n",
    "    plt.title('erreur absolue moyenne du modèle')\n",
    "    plt.ylabel('mae')\n",
    "    plt.xlabel('epoch')\n",
    "    plt.legend(['données apprentissage', 'données test'], loc='upper left')\n",
    "    plt.show()\n",
    "    # résumé de l'historique pour loss\n",
    "    plt.plot(history.history['loss'])\n",
    "    plt.plot(history.history['val_loss'])\n",
    "    plt.title('loss du modèle')\n",
    "    plt.ylabel('loss')\n",
    "    plt.xlabel('epoch')\n",
    "    plt.legend(['apprentissage', 'test'], loc='upper left')\n",
    "    plt.show()"
   ]
  },
  {
   "cell_type": "code",
   "execution_count": 139,
   "metadata": {
    "colab": {
     "base_uri": "https://localhost:8080/",
     "height": 573
    },
    "id": "ZAIJ_NFk34_T",
    "outputId": "bfaee444-1c2e-4fcc-ba40-856cd7bafefb"
   },
   "outputs": [
    {
     "data": {
      "image/png": "[encoded data removed]",
      "text/plain": [
       "<Figure size 432x288 with 1 Axes>"
      ]
     },
     "metadata": {
      "needs_background": "light"
     },
     "output_type": "display_data"
    },
    {
     "data": {
      "image/png": "[encoded data removed]",
      "text/plain": [
       "<Figure size 432x288 with 1 Axes>"
      ]
     },
     "metadata": {
      "needs_background": "light"
     },
     "output_type": "display_data"
    }
   ],
   "source": [
    "affiche_evolution_apprentissage_regression(h)"
   ]
  },
  {
   "cell_type": "code",
   "execution_count": 140,
   "metadata": {
    "colab": {
     "base_uri": "https://localhost:8080/"
    },
    "id": "B8nv0fU46DZL",
    "outputId": "4ee105fe-6d49-4e79-9a9f-c342f97789fa"
   },
   "outputs": [
    {
     "name": "stdout",
     "output_type": "stream",
     "text": [
      "4/4 [==============================] - 0s 3ms/step - loss: 9.9252 - mae: 2.1173\n",
      "loss score : 9.925158500671387\n",
      " mae_score : 2.1173317432403564\n"
     ]
    }
   ],
   "source": [
    "# score d'évaluation\n",
    "loss_score, mae_score = m.evaluate(X_test_bis, y_test_bis)\n",
    "print(\"loss score :\",loss_score)\n",
    "print(\" mae_score :\", mae_score)"
   ]
  }
 ],
 "metadata": {
  "colab": {
   "provenance": []
  },
  "kernelspec": {
   "display_name": "Python 3 (ipykernel)",
   "language": "python",
   "name": "python3"
  },
  "language_info": {
   "codemirror_mode": {
    "name": "ipython",
    "version": 3
   },
   "file_extension": ".py",
   "mimetype": "text/x-python",
   "name": "python",
   "nbconvert_exporter": "python",
   "pygments_lexer": "ipython3",
   "version": "3.9.12"
  }
 },
 "nbformat": 4,
 "nbformat_minor": 1
}
