{
 "cells": [
  {
   "cell_type": "markdown",
   "metadata": {},
   "source": [
    "# Intelligence Artificielle Avancée\n",
    "## Examen TP 1.5h\n",
    "### Mardi 13-02-2023"
   ]
  },
  {
   "cell_type": "markdown",
   "metadata": {
    "scrolled": true
   },
   "source": [
    "### Ecercice 1 : \n"
   ]
  },
  {
   "cell_type": "markdown",
   "metadata": {},
   "source": [
    "On utilisant le jeux de données (MNIST) et (keras ou pytorch) proposer et implémenter un modèle CNN. Le modèle proposé sera divisé en deux parties:<br>\n",
    "- extraction de carectéristique (au moins deux couches de convolution et pooling)<br>\n",
    "- apprentissage (couches denses) <br>"
   ]
  },
  {
   "cell_type": "code",
   "execution_count": null,
   "metadata": {},
   "outputs": [],
   "source": [
    "#A vous"
   ]
  },
  {
   "cell_type": "markdown",
   "metadata": {},
   "source": [
    "#### Evaluer la perfermance du modèle"
   ]
  },
  {
   "cell_type": "code",
   "execution_count": null,
   "metadata": {},
   "outputs": [],
   "source": [
    "#A vous"
   ]
  },
  {
   "cell_type": "markdown",
   "metadata": {},
   "source": [
    "#### En fonction de temps de réponse et de la précision, évaluez le Batch-size de la fonction d'apprentissage."
   ]
  },
  {
   "cell_type": "code",
   "execution_count": null,
   "metadata": {},
   "outputs": [],
   "source": [
    "#A vous"
   ]
  },
  {
   "cell_type": "markdown",
   "metadata": {},
   "source": [
    "#### Evaluer l'impact de taux d'apprentissage de l'optimiseur (learning rate) sur la précision   "
   ]
  },
  {
   "cell_type": "code",
   "execution_count": null,
   "metadata": {},
   "outputs": [],
   "source": [
    "#A vous"
   ]
  },
  {
   "cell_type": "markdown",
   "metadata": {},
   "source": [
    "### Ecercice 2 : "
   ]
  },
  {
   "cell_type": "markdown",
   "metadata": {},
   "source": [
    "Créez schématiquement un simple encodeur automatique pour le jeu de données MNIST. Considérez les images d'entrée avec 30x30 pixels, et l'espace latent en 16 dimensions. Clarifiez les éléments suivants :<br>\n",
    "-  la forme d'entrée (input shape)\n",
    "- la forme de sortie (output shape)\n",
    "- l'architecture d'encodeur\n",
    "- l'architecture du décodeur\n",
    "- les fonctions d'activations\n",
    "- mise en œuvre potentielle du modèle avec PyTorch (y compris le \\textit{Model} et la fonction  \\textit{forward}\n",
    "- comment augmenter la résolution des images décodées?"
   ]
  },
  {
   "cell_type": "code",
   "execution_count": null,
   "metadata": {},
   "outputs": [],
   "source": [
    "#A vous"
   ]
  }
 ],
 "metadata": {
  "kernelspec": {
   "display_name": "Python 3 (ipykernel)",
   "language": "python",
   "name": "python3"
  },
  "language_info": {
   "codemirror_mode": {
    "name": "ipython",
    "version": 3
   },
   "file_extension": ".py",
   "mimetype": "text/x-python",
   "name": "python",
   "nbconvert_exporter": "python",
   "pygments_lexer": "ipython3",
   "version": "3.9.7"
  }
 },
 "nbformat": 4,
 "nbformat_minor": 2
}
